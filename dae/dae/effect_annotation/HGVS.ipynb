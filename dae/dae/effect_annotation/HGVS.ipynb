{
 "cells": [
  {
   "cell_type": "code",
   "execution_count": null,
   "metadata": {
    "collapsed": false
   },
   "outputs": [],
   "source": [
    "from bioutils.sequences import aa3_to_aa1\n",
    "import hgvs\n",
    "import hgvs.location\n",
    "import hgvs.posedit\n",
    "import hgvs.edit\n",
    "import hgvs.sequencevariant"
   ]
  },
  {
   "cell_type": "code",
   "execution_count": null,
   "metadata": {
    "collapsed": false
   },
   "outputs": [],
   "source": [
    "def create_hgvs(transcript_id, prot_pos, ref_aa, alt_aa):\n",
    "    ref_aa = [aa3_to_aa1(aa) if aa != \"End\" else \"*\" for aa in ref_aa]\n",
    "    alt_aa = [aa3_to_aa1(aa) if aa != \"End\" else \"*\" for aa in alt_aa]\n",
    "\n",
    "    start_pos = hgvs.location.AAPosition(base=prot_pos, aa=ref_aa[0])\n",
    "    end_pos = hgvs.location.AAPosition(base=prot_pos + len(ref_aa) - 1,\n",
    "                                       aa=ref_aa[-1])\n",
    "    interval = hgvs.location.Interval(start=start_pos, end=end_pos)\n",
    "    edit = hgvs.edit.AARefAlt(ref=\"\", alt=\"\".join(alt_aa))\n",
    "    posedit = hgvs.posedit.PosEdit(pos=interval, edit=edit)\n",
    "    return hgvs.sequencevariant.SequenceVariant(ac=transcript_id,\n",
    "                                                type='p', posedit=posedit)"
   ]
  },
  {
   "cell_type": "code",
   "execution_count": null,
   "metadata": {
    "collapsed": true
   },
   "outputs": [],
   "source": [
    "prot_pos = 100\n",
    "ref_aa = [\"Asn\"]\n",
    "alt_aa = [\"Asn\"]\n",
    "transcript_id = \"NM_0123\""
   ]
  },
  {
   "cell_type": "code",
   "execution_count": null,
   "metadata": {
    "collapsed": false
   },
   "outputs": [],
   "source": [
    "str(create_hgvs(\"NM_0123\", 100, [\"Asn\"], [\"Cys\"]))"
   ]
  },
  {
   "cell_type": "code",
   "execution_count": null,
   "metadata": {
    "collapsed": false
   },
   "outputs": [],
   "source": [
    "import hgvs.parser"
   ]
  },
  {
   "cell_type": "code",
   "execution_count": null,
   "metadata": {
    "collapsed": true
   },
   "outputs": [],
   "source": [
    "hp = hgvs.parser.Parser()\n"
   ]
  },
  {
   "cell_type": "code",
   "execution_count": null,
   "metadata": {
    "collapsed": false
   },
   "outputs": [],
   "source": [
    "var_g = hp.parse_hgvs_variant(\"NM_017519:p.(Asn1782_Asn1783del)\")"
   ]
  },
  {
   "cell_type": "code",
   "execution_count": null,
   "metadata": {
    "collapsed": false
   },
   "outputs": [],
   "source": [
    "var_g.posedit.edit"
   ]
  }
 ],
 "metadata": {
  "anaconda-cloud": {},
  "kernelspec": {
   "display_name": "Python [conda env:seqpipe]",
   "language": "python",
   "name": "conda-env-seqpipe-py"
  },
  "language_info": {
   "codemirror_mode": {
    "name": "ipython",
    "version": 2
   },
   "file_extension": ".py",
   "mimetype": "text/x-python",
   "name": "python",
   "nbconvert_exporter": "python",
   "pygments_lexer": "ipython2",
   "version": "2.7.12"
  }
 },
 "nbformat": 4,
 "nbformat_minor": 1
}
