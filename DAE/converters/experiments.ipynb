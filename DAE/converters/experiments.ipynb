{
 "cells": [
  {
   "cell_type": "code",
   "execution_count": 28,
   "metadata": {},
   "outputs": [],
   "source": [
    "import vcf as PyVCF\n",
    "from vcf.parser import _Contig, _Format, _Info, _Filter, _Call\n",
    "from vcf.model import make_calldata_tuple\n",
    "import collections"
   ]
  },
  {
   "cell_type": "code",
   "execution_count": 35,
   "metadata": {},
   "outputs": [],
   "source": [
    "f = open('./output.vcf', 'w')"
   ]
  },
  {
   "cell_type": "code",
   "execution_count": 36,
   "metadata": {},
   "outputs": [],
   "source": [
    "class PyVcfTemplate(object):\n",
    "    \n",
    "    def __init__(self, infos=None, metadata=None, formats=None, filters=None, alts=None, contigs=None, samples=None):\n",
    "        if infos is None:\n",
    "            infos = {}\n",
    "        if metadata is None:\n",
    "            metadata = {}\n",
    "        if formats is None:\n",
    "            formats = {}\n",
    "        if filters is None:\n",
    "            filters = {}\n",
    "        if alts is None:\n",
    "            alts = {}\n",
    "        if contigs is None:\n",
    "            contigs = {}\n",
    "        if samples is None:\n",
    "            samples = []\n",
    "        \n",
    "        self.infos = {k:self._get_info(k, *v) for k, v in infos.items()}\n",
    "        self.metadata = metadata\n",
    "        self.formats = {k:_Format(k, *v) for k, v in formats.items()}\n",
    "        self.filters = {k:_Filter(k, v) for k, v in filters.items()}\n",
    "        self.alts = alts\n",
    "        self.contigs = collections.OrderedDict((x, _Contig(x, None)) for x in contigs)\n",
    "        self._column_headers = ['CHROM', 'POS', 'ID', 'REF', 'ALT', 'QUAL', 'FILTER', 'INFO', 'FORMAT']\n",
    "        self.samples = samples\n",
    "    \n",
    "    def _get_info(self, name, number, type, description):\n",
    "        return _Info(name, number, type, description, '_', '_')\n",
    "        \n",
    "# def format_array_to_dict(number, type, description):\n",
    "#     return {\n",
    "#         'Number': number,\n",
    "#         'Type': type,\n",
    "#         'Description': description\n",
    "#     }\n",
    "contigs = [str(num) for num in range(1, 24)] + ['X', 'Y']\n",
    "# contigs.update({'X': ['X'], 'Y': ['Y']})\n",
    "\n",
    "template = PyVcfTemplate(\n",
    "    metadata={'fileformat': 'VCFv4.2'},\n",
    "    formats={\n",
    "        'GT': [1, 'String', 'Genotype'],\n",
    "        'AD': ['.', 'Integer', 'Allelic depths for the ref and alt alleles in the order listed']\n",
    "    },\n",
    "    samples=['SAMPLE1', 'SAMPLE2', 'SAMPLE3'],\n",
    "    contigs=contigs,\n",
    "    infos={\n",
    "        'END': [1, 'Integer', 'Stop position of the interval']\n",
    "    },\n",
    "    filters={\n",
    "        'PASS': 'All filters passed'\n",
    "    }\n",
    "    \n",
    "    \n",
    ")\n",
    "\n",
    "vcf = PyVCF.Writer(f, template)"
   ]
  },
  {
   "cell_type": "code",
   "execution_count": 37,
   "metadata": {},
   "outputs": [],
   "source": [
    "for chromosome in contigs:\n",
    "    record = PyVCF.model._Record(\n",
    "        chromosome,\n",
    "        2020, # POS\n",
    "        '.',\n",
    "        'A',\n",
    "        [PyVCF.model._Substitution('ACGTAGATTAC')],\n",
    "        100,\n",
    "        'PASS',\n",
    "        {'END': 2031},\n",
    "        'GT:AD',\n",
    "        {'SAMPLE1': 0, 'SAMPLE2': 1, 'SAMPLE3': 2}\n",
    "    )\n",
    "    reverse_map = {v:k for k, v in record._sample_indexes.items()}\n",
    "    calldata_tuple = make_calldata_tuple(record.FORMAT.split(':'))\n",
    "#     print(calldata_tuple)\n",
    "    samples = map(\n",
    "        lambda x: _Call(record, reverse_map[x[0]], calldata_tuple(**x[1])),\n",
    "        enumerate([{'GT': '0/1', 'AD': '20,23'}, {'GT': '.', 'AD': '.,.'}, {'GT': '.', 'AD': '.'}]))\n",
    "    \n",
    "    record.samples = samples\n",
    "    vcf.write_record(record)\n",
    "\n",
    "vcf.close()"
   ]
  },
  {
   "cell_type": "code",
   "execution_count": null,
   "metadata": {},
   "outputs": [],
   "source": []
  },
  {
   "cell_type": "code",
   "execution_count": null,
   "metadata": {},
   "outputs": [],
   "source": [
    "# f = open('./sample.vcf', 'r')"
   ]
  },
  {
   "cell_type": "code",
   "execution_count": null,
   "metadata": {},
   "outputs": [],
   "source": [
    "# reader = PyVCF.Reader(f)\n",
    "# for record in reader:\n",
    "#     print(record.samples)\n",
    "#     break"
   ]
  },
  {
   "cell_type": "code",
   "execution_count": null,
   "metadata": {},
   "outputs": [],
   "source": [
    "header.add_meta('fileformat', value='VCFv4.1')"
   ]
  },
  {
   "cell_type": "code",
   "execution_count": null,
   "metadata": {},
   "outputs": [],
   "source": [
    "header.formats.add('GT', 2, 'String', 'Genotype')\n",
    "header.formats.add('AD', '.', 'Integer', 'Allelic depths for the ref and alt alleles in the order listed')"
   ]
  },
  {
   "cell_type": "code",
   "execution_count": null,
   "metadata": {},
   "outputs": [],
   "source": [
    "for sample in range(4000):\n",
    "    header.add_sample('SAMPLE' + str(sample))\n",
    "# header.add_sample('SAMPLE01')\n",
    "# header.add_sample('SAMPLE02')\n",
    "# header.add_sample('SAMPLE03')"
   ]
  },
  {
   "cell_type": "code",
   "execution_count": null,
   "metadata": {},
   "outputs": [],
   "source": [
    "chromosomes = (['chr' + str(num) for num in range(1, 23)] + ['X', 'Y'])\n",
    "# chromosomes = sorted(chromosomes, reverse=True)\n",
    "# print(chromosomes)\n",
    "for chromosome in chromosomes:\n",
    "    header.contigs.add(chromosome)"
   ]
  },
  {
   "cell_type": "code",
   "execution_count": null,
   "metadata": {},
   "outputs": [],
   "source": [
    "header.info.add('END', 1, 'Integer', 'Stop position of the interval')\n",
    "print(list(header.contigs))\n",
    "print(str(header.info.header))"
   ]
  },
  {
   "cell_type": "code",
   "execution_count": null,
   "metadata": {},
   "outputs": [],
   "source": [
    "# vcf_in = pysam.VariantFile('./test.vcf', 'r')\n",
    "# header = vcf_in.header\n",
    "vcf = pysam.VariantFile('./output.vcf', 'w', header=header)"
   ]
  },
  {
   "cell_type": "code",
   "execution_count": null,
   "metadata": {},
   "outputs": [],
   "source": [
    "print str(header.info.header)"
   ]
  },
  {
   "cell_type": "code",
   "execution_count": null,
   "metadata": {},
   "outputs": [],
   "source": [
    "record = None\n",
    "for chromosome in chromosomes=chromosomes:\n",
    "    record = header.new_record(\n",
    "        contig=chromosome,\n",
    "        alleles=('A', 'AC'),\n",
    "        filter='.',\n",
    "        id='.',\n",
    "        start=100,\n",
    "        qual=100,\n",
    "        samples= [{'GT': (0, 1), 'AD': (20, 23)}, {}] * (4000 / 2)\n",
    "    )\n",
    "    vcf.write(record)"
   ]
  },
  {
   "cell_type": "code",
   "execution_count": null,
   "metadata": {},
   "outputs": [],
   "source": [
    "record.contig"
   ]
  },
  {
   "cell_type": "code",
   "execution_count": null,
   "metadata": {},
   "outputs": [],
   "source": []
  },
  {
   "cell_type": "code",
   "execution_count": null,
   "metadata": {},
   "outputs": [],
   "source": [
    "vcf.close()\n"
   ]
  }
 ],
 "metadata": {
  "kernelspec": {
   "display_name": "Python 2",
   "language": "python",
   "name": "python2"
  },
  "language_info": {
   "codemirror_mode": {
    "name": "ipython",
    "version": 2
   },
   "file_extension": ".py",
   "mimetype": "text/x-python",
   "name": "python",
   "nbconvert_exporter": "python",
   "pygments_lexer": "ipython2",
   "version": "2.7.12"
  }
 },
 "nbformat": 4,
 "nbformat_minor": 2
}
