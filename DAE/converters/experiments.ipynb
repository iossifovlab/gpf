{
 "cells": [
  {
   "cell_type": "code",
   "execution_count": 1,
   "metadata": {},
   "outputs": [],
   "source": [
    "import pysam"
   ]
  },
  {
   "cell_type": "code",
   "execution_count": 2,
   "metadata": {},
   "outputs": [],
   "source": [
    "header = pysam.VariantHeader()"
   ]
  },
  {
   "cell_type": "code",
   "execution_count": 3,
   "metadata": {},
   "outputs": [],
   "source": [
    "header.add_meta('fileformat', value='VCFv4.1')"
   ]
  },
  {
   "cell_type": "code",
   "execution_count": 4,
   "metadata": {},
   "outputs": [],
   "source": [
    "header.formats.add('GT', 1, 'String', 'Genotype')\n",
    "header.formats.add('AD', '.', 'Integer', 'Allelic depths for the ref and alt alleles in the order listed')"
   ]
  },
  {
   "cell_type": "code",
   "execution_count": 5,
   "metadata": {},
   "outputs": [],
   "source": [
    "header.add_sample('SAMPLE01')\n",
    "header.add_sample('SAMPLE02')\n",
    "header.add_sample('SAMPLE03')"
   ]
  },
  {
   "cell_type": "code",
   "execution_count": 6,
   "metadata": {},
   "outputs": [],
   "source": [
    "chromosomes = (['chr' + str(num) for num in range(1, 11)] + ['X', 'Y'])\n",
    "# chromosomes = sorted(chromosomes, reverse=True)\n",
    "# print(chromosomes)\n",
    "for chromosome in chromosomes:\n",
    "    header.contigs.add(chromosome)"
   ]
  },
  {
   "cell_type": "code",
   "execution_count": 7,
   "metadata": {},
   "outputs": [
    {
     "name": "stdout",
     "output_type": "stream",
     "text": [
      "['chr1', 'chr2', 'chr3', 'chr4', 'chr5', 'chr6', 'chr7', 'chr8', 'chr9', 'chr10', 'X', 'Y']\n",
      "##fileformat=VCFv4.2\n",
      "##FILTER=<ID=PASS,Description=\"All filters passed\">\n",
      "##FORMAT=<ID=GT,Number=1,Type=String,Description=Genotype>\n",
      "##FORMAT=<ID=AD,Number=.,Type=Integer,Description=\"Allelic depths for the ref and alt alleles in the order listed\">\n",
      "##contig=<ID=chr1>\n",
      "##contig=<ID=chr2>\n",
      "##contig=<ID=chr3>\n",
      "##contig=<ID=chr4>\n",
      "##contig=<ID=chr5>\n",
      "##contig=<ID=chr6>\n",
      "##contig=<ID=chr7>\n",
      "##contig=<ID=chr8>\n",
      "##contig=<ID=chr9>\n",
      "##contig=<ID=chr10>\n",
      "##contig=<ID=X>\n",
      "##contig=<ID=Y>\n",
      "##INFO=<ID=END,Number=1,Type=Integer,Description=\"Stop position of the interval\">\n",
      "#CHROM\tPOS\tID\tREF\tALT\tQUAL\tFILTER\tINFO\tFORMAT\tSAMPLE01\tSAMPLE02\tSAMPLE03\n",
      "\n"
     ]
    }
   ],
   "source": [
    "header.info.add('END', 1, 'Integer', 'Stop position of the interval')\n",
    "print(list(header.contigs))\n",
    "print(str(header.info.header))"
   ]
  },
  {
   "cell_type": "code",
   "execution_count": 8,
   "metadata": {},
   "outputs": [],
   "source": [
    "# vcf_in = pysam.VariantFile('./test.vcf', 'r')\n",
    "# header = vcf_in.header\n",
    "vcf = pysam.VariantFile('./output.vcf', 'w', header=header)"
   ]
  },
  {
   "cell_type": "code",
   "execution_count": 9,
   "metadata": {},
   "outputs": [
    {
     "name": "stdout",
     "output_type": "stream",
     "text": [
      "##fileformat=VCFv4.2\n",
      "##FILTER=<ID=PASS,Description=\"All filters passed\">\n",
      "##FORMAT=<ID=GT,Number=1,Type=String,Description=Genotype>\n",
      "##FORMAT=<ID=AD,Number=.,Type=Integer,Description=\"Allelic depths for the ref and alt alleles in the order listed\">\n",
      "##contig=<ID=chr1>\n",
      "##contig=<ID=chr2>\n",
      "##contig=<ID=chr3>\n",
      "##contig=<ID=chr4>\n",
      "##contig=<ID=chr5>\n",
      "##contig=<ID=chr6>\n",
      "##contig=<ID=chr7>\n",
      "##contig=<ID=chr8>\n",
      "##contig=<ID=chr9>\n",
      "##contig=<ID=chr10>\n",
      "##contig=<ID=X>\n",
      "##contig=<ID=Y>\n",
      "##INFO=<ID=END,Number=1,Type=Integer,Description=\"Stop position of the interval\">\n",
      "#CHROM\tPOS\tID\tREF\tALT\tQUAL\tFILTER\tINFO\tFORMAT\tSAMPLE01\tSAMPLE02\tSAMPLE03\n",
      "\n"
     ]
    }
   ],
   "source": [
    "print str(header.info.header)"
   ]
  },
  {
   "cell_type": "code",
   "execution_count": 10,
   "metadata": {},
   "outputs": [],
   "source": [
    "record = None\n",
    "for chromosome in chromosomes:\n",
    "    record = header.new_record(\n",
    "        contig=chromosome,\n",
    "        alleles=('ATG', 'AATGAC'),\n",
    "        filter='.',\n",
    "        id='.',\n",
    "        start=100,\n",
    "        qual=100,\n",
    "        samples=[] #[{'GT': (0, 1), 'AD': (20, 23), 'phased': False}, {}, {'GT': (0, 0), 'AD': [42, 15]}]\n",
    "    )\n",
    "    vcf.write(record)"
   ]
  },
  {
   "cell_type": "code",
   "execution_count": 11,
   "metadata": {},
   "outputs": [
    {
     "data": {
      "text/plain": [
       "'Y'"
      ]
     },
     "execution_count": 11,
     "metadata": {},
     "output_type": "execute_result"
    }
   ],
   "source": [
    "record.contig"
   ]
  },
  {
   "cell_type": "code",
   "execution_count": null,
   "metadata": {},
   "outputs": [],
   "source": []
  },
  {
   "cell_type": "code",
   "execution_count": 12,
   "metadata": {},
   "outputs": [],
   "source": [
    "vcf.close()\n"
   ]
  }
 ],
 "metadata": {
  "kernelspec": {
   "display_name": "Python 2",
   "language": "python",
   "name": "python2"
  },
  "language_info": {
   "codemirror_mode": {
    "name": "ipython",
    "version": 2
   },
   "file_extension": ".py",
   "mimetype": "text/x-python",
   "name": "python",
   "nbconvert_exporter": "python",
   "pygments_lexer": "ipython2",
   "version": "2.7.12"
  }
 },
 "nbformat": 4,
 "nbformat_minor": 2
}
