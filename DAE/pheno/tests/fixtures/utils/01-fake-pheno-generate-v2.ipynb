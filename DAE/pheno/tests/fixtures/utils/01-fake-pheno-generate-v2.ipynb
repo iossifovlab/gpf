{
 "cells": [
  {
   "cell_type": "code",
   "execution_count": 1,
   "metadata": {},
   "outputs": [],
   "source": [
    "import matplotlib\n",
    "import numpy as np\n",
    "import matplotlib.pyplot as plt\n",
    "%matplotlib inline  "
   ]
  },
  {
   "cell_type": "code",
   "execution_count": 2,
   "metadata": {},
   "outputs": [],
   "source": [
    "import pandas as pd\n",
    "import numpy as np"
   ]
  },
  {
   "cell_type": "code",
   "execution_count": 3,
   "metadata": {},
   "outputs": [],
   "source": [
    "ped_df = pd.read_csv(\"pheno.ped\", sep='\\t')"
   ]
  },
  {
   "cell_type": "code",
   "execution_count": 4,
   "metadata": {},
   "outputs": [
    {
     "data": {
      "text/plain": [
       "195"
      ]
     },
     "execution_count": 4,
     "metadata": {},
     "output_type": "execute_result"
    }
   ],
   "source": [
    "len(ped_df)"
   ]
  },
  {
   "cell_type": "code",
   "execution_count": 5,
   "metadata": {},
   "outputs": [
    {
     "data": {
      "text/html": [
       "<div>\n",
       "<style scoped>\n",
       "    .dataframe tbody tr th:only-of-type {\n",
       "        vertical-align: middle;\n",
       "    }\n",
       "\n",
       "    .dataframe tbody tr th {\n",
       "        vertical-align: top;\n",
       "    }\n",
       "\n",
       "    .dataframe thead th {\n",
       "        text-align: right;\n",
       "    }\n",
       "</style>\n",
       "<table border=\"1\" class=\"dataframe\">\n",
       "  <thead>\n",
       "    <tr style=\"text-align: right;\">\n",
       "      <th></th>\n",
       "      <th>familyId</th>\n",
       "      <th>personId</th>\n",
       "      <th>dadId</th>\n",
       "      <th>momId</th>\n",
       "      <th>sex</th>\n",
       "      <th>status</th>\n",
       "      <th>role</th>\n",
       "    </tr>\n",
       "  </thead>\n",
       "  <tbody>\n",
       "    <tr>\n",
       "      <th>0</th>\n",
       "      <td>f1</td>\n",
       "      <td>f1.dad</td>\n",
       "      <td>0</td>\n",
       "      <td>0</td>\n",
       "      <td>1</td>\n",
       "      <td>1</td>\n",
       "      <td>dad</td>\n",
       "    </tr>\n",
       "    <tr>\n",
       "      <th>1</th>\n",
       "      <td>f1</td>\n",
       "      <td>f1.mom</td>\n",
       "      <td>0</td>\n",
       "      <td>0</td>\n",
       "      <td>2</td>\n",
       "      <td>1</td>\n",
       "      <td>mom</td>\n",
       "    </tr>\n",
       "    <tr>\n",
       "      <th>2</th>\n",
       "      <td>f1</td>\n",
       "      <td>f1.s1</td>\n",
       "      <td>f1.dad</td>\n",
       "      <td>f1.mom</td>\n",
       "      <td>2</td>\n",
       "      <td>1</td>\n",
       "      <td>sib</td>\n",
       "    </tr>\n",
       "    <tr>\n",
       "      <th>3</th>\n",
       "      <td>f1</td>\n",
       "      <td>f1.p1</td>\n",
       "      <td>f1.dad</td>\n",
       "      <td>f1.mom</td>\n",
       "      <td>1</td>\n",
       "      <td>2</td>\n",
       "      <td>prb</td>\n",
       "    </tr>\n",
       "    <tr>\n",
       "      <th>4</th>\n",
       "      <td>f1</td>\n",
       "      <td>f1.s2</td>\n",
       "      <td>f1.dad</td>\n",
       "      <td>f1.mom</td>\n",
       "      <td>2</td>\n",
       "      <td>2</td>\n",
       "      <td>sib</td>\n",
       "    </tr>\n",
       "  </tbody>\n",
       "</table>\n",
       "</div>"
      ],
      "text/plain": [
       "  familyId personId   dadId   momId  sex  status role\n",
       "0       f1   f1.dad       0       0    1       1  dad\n",
       "1       f1   f1.mom       0       0    2       1  mom\n",
       "2       f1    f1.s1  f1.dad  f1.mom    2       1  sib\n",
       "3       f1    f1.p1  f1.dad  f1.mom    1       2  prb\n",
       "4       f1    f1.s2  f1.dad  f1.mom    2       2  sib"
      ]
     },
     "execution_count": 5,
     "metadata": {},
     "output_type": "execute_result"
    }
   ],
   "source": [
    "ped_df.head()"
   ]
  },
  {
   "cell_type": "markdown",
   "metadata": {},
   "source": [
    "## Age at assesment"
   ]
  },
  {
   "cell_type": "code",
   "execution_count": 6,
   "metadata": {},
   "outputs": [
    {
     "data": {
      "text/plain": [
       "480"
      ]
     },
     "execution_count": 6,
     "metadata": {},
     "output_type": "execute_result"
    }
   ],
   "source": [
    "40*12"
   ]
  },
  {
   "cell_type": "code",
   "execution_count": 7,
   "metadata": {},
   "outputs": [
    {
     "data": {
      "text/plain": [
       "60"
      ]
     },
     "execution_count": 7,
     "metadata": {},
     "output_type": "execute_result"
    }
   ],
   "source": [
    "5*12"
   ]
  },
  {
   "cell_type": "code",
   "execution_count": 8,
   "metadata": {},
   "outputs": [
    {
     "data": {
      "text/plain": [
       "144"
      ]
     },
     "execution_count": 8,
     "metadata": {},
     "output_type": "execute_result"
    }
   ],
   "source": [
    "12*12"
   ]
  },
  {
   "cell_type": "code",
   "execution_count": 9,
   "metadata": {},
   "outputs": [
    {
     "data": {
      "text/plain": [
       "36"
      ]
     },
     "execution_count": 9,
     "metadata": {},
     "output_type": "execute_result"
    }
   ],
   "source": [
    "3*12"
   ]
  },
  {
   "cell_type": "code",
   "execution_count": 10,
   "metadata": {},
   "outputs": [],
   "source": [
    "i1_age = pd.Series(np.random.normal(480, 60, len(ped_df)), index=ped_df.index)"
   ]
  },
  {
   "cell_type": "code",
   "execution_count": 11,
   "metadata": {},
   "outputs": [],
   "source": [
    "index = (ped_df.role == 'prb') | (ped_df.role == 'sib')"
   ]
  },
  {
   "cell_type": "code",
   "execution_count": 12,
   "metadata": {},
   "outputs": [],
   "source": [
    "i1_age[index] = np.random.normal(144, 36, len(ped_df[index]))"
   ]
  },
  {
   "cell_type": "code",
   "execution_count": 13,
   "metadata": {},
   "outputs": [
    {
     "data": {
      "text/plain": [
       "<matplotlib.axes._subplots.AxesSubplot at 0x7fddb4d0bdd8>"
      ]
     },
     "execution_count": 13,
     "metadata": {},
     "output_type": "execute_result"
    },
    {
     "data": {
      "image/png": "[encoded data removed]",
      "text/plain": [
       "<Figure size 432x288 with 1 Axes>"
      ]
     },
     "metadata": {},
     "output_type": "display_data"
    }
   ],
   "source": [
    "i1_age.hist()"
   ]
  },
  {
   "cell_type": "code",
   "execution_count": 14,
   "metadata": {},
   "outputs": [
    {
     "data": {
      "text/plain": [
       "45.77738160258474"
      ]
     },
     "execution_count": 14,
     "metadata": {},
     "output_type": "execute_result"
    }
   ],
   "source": [
    "i1_age.min()"
   ]
  },
  {
   "cell_type": "code",
   "execution_count": 15,
   "metadata": {},
   "outputs": [
    {
     "data": {
      "text/plain": [
       "638.915002951367"
      ]
     },
     "execution_count": 15,
     "metadata": {},
     "output_type": "execute_result"
    }
   ],
   "source": [
    "i1_age.max()"
   ]
  },
  {
   "cell_type": "code",
   "execution_count": 16,
   "metadata": {},
   "outputs": [
    {
     "data": {
      "text/plain": [
       "50.25"
      ]
     },
     "execution_count": 16,
     "metadata": {},
     "output_type": "execute_result"
    }
   ],
   "source": [
    "603/12"
   ]
  },
  {
   "cell_type": "markdown",
   "metadata": {},
   "source": [
    "## IQ"
   ]
  },
  {
   "cell_type": "code",
   "execution_count": 17,
   "metadata": {},
   "outputs": [],
   "source": [
    "i1_iq = pd.Series(np.random.normal(100, 30, len(ped_df)), index=ped_df.index)"
   ]
  },
  {
   "cell_type": "code",
   "execution_count": 18,
   "metadata": {},
   "outputs": [],
   "source": [
    "index = ped_df.status == 2"
   ]
  },
  {
   "cell_type": "code",
   "execution_count": 19,
   "metadata": {},
   "outputs": [],
   "source": [
    "i1_iq[index] = np.random.normal(70, 40, len(ped_df[index]))"
   ]
  },
  {
   "cell_type": "code",
   "execution_count": 20,
   "metadata": {},
   "outputs": [
    {
     "data": {
      "text/plain": [
       "<matplotlib.axes._subplots.AxesSubplot at 0x7fddb10c1b70>"
      ]
     },
     "execution_count": 20,
     "metadata": {},
     "output_type": "execute_result"
    },
    {
     "data": {
      "image/png": "[encoded data removed]",
      "text/plain": [
       "<Figure size 432x288 with 1 Axes>"
      ]
     },
     "metadata": {},
     "output_type": "display_data"
    }
   ],
   "source": [
    "i1_iq.hist()"
   ]
  },
  {
   "cell_type": "markdown",
   "metadata": {},
   "source": [
    "## Other measures"
   ]
  },
  {
   "cell_type": "code",
   "execution_count": 21,
   "metadata": {},
   "outputs": [],
   "source": [
    "i1_m1 = pd.Series(np.random.normal(80,20, len(ped_df)), ped_df.index)"
   ]
  },
  {
   "cell_type": "code",
   "execution_count": 22,
   "metadata": {},
   "outputs": [
    {
     "data": {
      "text/plain": [
       "0     68.526095\n",
       "1     52.234468\n",
       "2    101.095017\n",
       "3     34.762858\n",
       "4    110.824562\n",
       "dtype: float64"
      ]
     },
     "execution_count": 22,
     "metadata": {},
     "output_type": "execute_result"
    }
   ],
   "source": [
    "i1_m1.head()"
   ]
  },
  {
   "cell_type": "code",
   "execution_count": 23,
   "metadata": {},
   "outputs": [
    {
     "data": {
      "text/plain": [
       "<matplotlib.axes._subplots.AxesSubplot at 0x7fddb1048b70>"
      ]
     },
     "execution_count": 23,
     "metadata": {},
     "output_type": "execute_result"
    },
    {
     "data": {
      "image/png": "[encoded data removed]",
      "text/plain": [
       "<Figure size 432x288 with 1 Axes>"
      ]
     },
     "metadata": {},
     "output_type": "display_data"
    }
   ],
   "source": [
    "i1_m1.hist()"
   ]
  },
  {
   "cell_type": "code",
   "execution_count": 24,
   "metadata": {},
   "outputs": [],
   "source": [
    "i1_m2 = pd.Series(np.random.normal(40,10, len(ped_df)), ped_df.index)"
   ]
  },
  {
   "cell_type": "code",
   "execution_count": 25,
   "metadata": {},
   "outputs": [
    {
     "data": {
      "text/plain": [
       "<matplotlib.axes._subplots.AxesSubplot at 0x7fddb116a668>"
      ]
     },
     "execution_count": 25,
     "metadata": {},
     "output_type": "execute_result"
    },
    {
     "data": {
      "image/png": "[encoded data removed]",
      "text/plain": [
       "<Figure size 432x288 with 1 Axes>"
      ]
     },
     "metadata": {},
     "output_type": "display_data"
    }
   ],
   "source": [
    "i1_m2.hist()"
   ]
  },
  {
   "cell_type": "code",
   "execution_count": 26,
   "metadata": {},
   "outputs": [],
   "source": [
    "i1_m3 = pd.Series(np.random.normal(80,20, len(ped_df)), ped_df.index)"
   ]
  },
  {
   "cell_type": "code",
   "execution_count": 27,
   "metadata": {},
   "outputs": [
    {
     "data": {
      "text/plain": [
       "195"
      ]
     },
     "execution_count": 27,
     "metadata": {},
     "output_type": "execute_result"
    }
   ],
   "source": [
    "index = ped_df.status==2\n",
    "len(index)"
   ]
  },
  {
   "cell_type": "code",
   "execution_count": 28,
   "metadata": {},
   "outputs": [
    {
     "data": {
      "text/plain": [
       "66"
      ]
     },
     "execution_count": 28,
     "metadata": {},
     "output_type": "execute_result"
    }
   ],
   "source": [
    "len(ped_df[index])"
   ]
  },
  {
   "cell_type": "code",
   "execution_count": 29,
   "metadata": {},
   "outputs": [],
   "source": [
    "i1_m3[index] = np.random.normal(40, 5, len(ped_df[index]))"
   ]
  },
  {
   "cell_type": "code",
   "execution_count": 30,
   "metadata": {},
   "outputs": [
    {
     "data": {
      "text/plain": [
       "<matplotlib.axes._subplots.AxesSubplot at 0x7fddb0fb4860>"
      ]
     },
     "execution_count": 30,
     "metadata": {},
     "output_type": "execute_result"
    },
    {
     "data": {
      "image/png": "[encoded data removed]",
      "text/plain": [
       "<Figure size 432x288 with 1 Axes>"
      ]
     },
     "metadata": {},
     "output_type": "display_data"
    }
   ],
   "source": [
    "i1_m3.hist()"
   ]
  },
  {
   "cell_type": "code",
   "execution_count": 31,
   "metadata": {},
   "outputs": [],
   "source": [
    "i1_m4 = pd.Series(np.random.poisson(2, len(ped_df)), index=ped_df.index)\n",
    "i1_m4[index] = np.random.poisson(1,len(ped_df[index]))"
   ]
  },
  {
   "cell_type": "code",
   "execution_count": 32,
   "metadata": {},
   "outputs": [
    {
     "data": {
      "text/plain": [
       "<matplotlib.axes._subplots.AxesSubplot at 0x7fddb0f307f0>"
      ]
     },
     "execution_count": 32,
     "metadata": {},
     "output_type": "execute_result"
    },
    {
     "data": {
      "image/png": "[encoded data removed]",
      "text/plain": [
       "<Figure size 432x288 with 1 Axes>"
      ]
     },
     "metadata": {},
     "output_type": "display_data"
    }
   ],
   "source": [
    "i1_m4.hist()"
   ]
  },
  {
   "cell_type": "code",
   "execution_count": 33,
   "metadata": {},
   "outputs": [],
   "source": [
    "i1_m5 = pd.Series(np.random.choice(['catA', 'catB', 'catC', 'catD', 'catF'], size=len(ped_df)))"
   ]
  },
  {
   "cell_type": "code",
   "execution_count": 34,
   "metadata": {},
   "outputs": [
    {
     "data": {
      "text/plain": [
       "<matplotlib.axes._subplots.AxesSubplot at 0x7fddb0ebbb70>"
      ]
     },
     "execution_count": 34,
     "metadata": {},
     "output_type": "execute_result"
    },
    {
     "data": {
      "image/png": "[encoded data removed]",
      "text/plain": [
       "<Figure size 432x288 with 1 Axes>"
      ]
     },
     "metadata": {},
     "output_type": "display_data"
    }
   ],
   "source": [
    "i1_m5.hist()"
   ]
  },
  {
   "cell_type": "code",
   "execution_count": 35,
   "metadata": {},
   "outputs": [],
   "source": [
    "i1_m6 = pd.Series([np.NaN * len(ped_df)])"
   ]
  },
  {
   "cell_type": "code",
   "execution_count": 36,
   "metadata": {},
   "outputs": [
    {
     "data": {
      "text/plain": [
       "<matplotlib.axes._subplots.AxesSubplot at 0x7fddb0ddd898>"
      ]
     },
     "execution_count": 36,
     "metadata": {},
     "output_type": "execute_result"
    },
    {
     "data": {
      "image/png": "[encoded data removed]",
      "text/plain": [
       "<Figure size 432x288 with 1 Axes>"
      ]
     },
     "metadata": {},
     "output_type": "display_data"
    }
   ],
   "source": [
    "i1_m6.hist()"
   ]
  },
  {
   "cell_type": "code",
   "execution_count": 37,
   "metadata": {},
   "outputs": [],
   "source": [
    "# Continuous measure with non-numeric values below non-numeric cutoff (6%, ~11 values)\n",
    "cutoff = 0.06\n",
    "i1_m7 = pd.Series(np.random.normal(80,20, len(ped_df)), ped_df.index)\n",
    "non_numeric_values = pd.Series(np.random.choice(['valA', 'valB', 'valC', 'valD', 'valF'], size=len(ped_df)))\n",
    "mask = np.random.randint(0, len(ped_df), size=int(cutoff * len(ped_df)))\n",
    "i1_m7[mask] = non_numeric_values[mask]"
   ]
  },
  {
   "cell_type": "code",
   "execution_count": 38,
   "metadata": {},
   "outputs": [
    {
     "data": {
      "image/png": "[encoded data removed]",
      "text/plain": [
       "<Figure size 432x288 with 1 Axes>"
      ]
     },
     "metadata": {},
     "output_type": "display_data"
    }
   ],
   "source": [
    "# Ordinal measure with non-numeric values below non-numeric cutoff (6%, ~11 values)\n",
    "cutoff = 0.06\n",
    "i1_m8 = pd.Series(np.random.poisson(2, len(ped_df)), index=ped_df.index)\n",
    "i1_m8.hist()\n",
    "i1_m8[index] = np.random.poisson(1,len(ped_df[index]))\n",
    "non_numeric_values = pd.Series(np.random.choice(['valA', 'valB', 'valC', 'valD', 'valF'], size=len(ped_df)))\n",
    "mask = np.random.randint(0, len(ped_df), size=int(cutoff * len(ped_df)))\n",
    "i1_m8[mask] = non_numeric_values[mask]"
   ]
  },
  {
   "cell_type": "code",
   "execution_count": 39,
   "metadata": {},
   "outputs": [],
   "source": [
    "# Continuous measure with non-numeric values above non-numeric cutoff (50%, ~97 values)\n",
    "cutoff = 0.5\n",
    "i1_m9 = pd.Series(np.random.normal(80,20, len(ped_df)), ped_df.index)\n",
    "non_numeric_values = pd.Series(np.random.choice(['valA', 'valB', 'valC', 'valD', 'valF'], size=len(ped_df)))\n",
    "mask = np.random.randint(0, len(ped_df), size=int(cutoff * len(ped_df)))\n",
    "i1_m9[mask] = non_numeric_values[mask]"
   ]
  },
  {
   "cell_type": "code",
   "execution_count": 40,
   "metadata": {},
   "outputs": [
    {
     "data": {
      "text/plain": [
       "<matplotlib.axes._subplots.AxesSubplot at 0x7fddafab1240>"
      ]
     },
     "execution_count": 40,
     "metadata": {},
     "output_type": "execute_result"
    },
    {
     "data": {
      "image/png": "[encoded data removed]",
      "text/plain": [
       "<Figure size 432x288 with 1 Axes>"
      ]
     },
     "metadata": {},
     "output_type": "display_data"
    }
   ],
   "source": [
    "# Continuous measure with odd values of large sizes (20%, ~38 values) to be used in filtering\n",
    "percent = 0.2\n",
    "i1_m10 = pd.Series(np.random.normal(80,20, len(ped_df)), ped_df.index)\n",
    "non_numeric_values = pd.Series(np.random.choice([9999, -9999], size=len(ped_df)))\n",
    "mask = np.random.randint(0, len(ped_df), size=int(percent * len(ped_df)))\n",
    "i1_m10[mask] = non_numeric_values[mask]\n",
    "i1_m10.hist()"
   ]
  },
  {
   "cell_type": "markdown",
   "metadata": {},
   "source": [
    "## Full instrument"
   ]
  },
  {
   "cell_type": "code",
   "execution_count": 41,
   "metadata": {},
   "outputs": [],
   "source": [
    "i1_df = pd.DataFrame(index=ped_df.index)"
   ]
  },
  {
   "cell_type": "code",
   "execution_count": 42,
   "metadata": {},
   "outputs": [],
   "source": [
    "i1_df['personId'] = ped_df['personId']"
   ]
  },
  {
   "cell_type": "code",
   "execution_count": 43,
   "metadata": {},
   "outputs": [],
   "source": [
    "i1_df['age'] = i1_age\n",
    "i1_df['iq'] = i1_iq\n",
    "i1_df['m1'] = i1_m1\n",
    "i1_df['m2'] = i1_m2\n",
    "i1_df['m3'] = i1_m3\n",
    "i1_df['m4'] = i1_m4\n",
    "i1_df['m5'] = i1_m5\n",
    "i1_df['m6'] = i1_m6\n",
    "i1_df['m7'] = i1_m7\n",
    "i1_df['m8'] = i1_m8\n",
    "i1_df['m9'] = i1_m9\n",
    "i1_df['m10'] = i1_m10"
   ]
  },
  {
   "cell_type": "code",
   "execution_count": 44,
   "metadata": {},
   "outputs": [
    {
     "data": {
      "text/html": [
       "<div>\n",
       "<style scoped>\n",
       "    .dataframe tbody tr th:only-of-type {\n",
       "        vertical-align: middle;\n",
       "    }\n",
       "\n",
       "    .dataframe tbody tr th {\n",
       "        vertical-align: top;\n",
       "    }\n",
       "\n",
       "    .dataframe thead th {\n",
       "        text-align: right;\n",
       "    }\n",
       "</style>\n",
       "<table border=\"1\" class=\"dataframe\">\n",
       "  <thead>\n",
       "    <tr style=\"text-align: right;\">\n",
       "      <th></th>\n",
       "      <th>personId</th>\n",
       "      <th>age</th>\n",
       "      <th>iq</th>\n",
       "      <th>m1</th>\n",
       "      <th>m2</th>\n",
       "      <th>m3</th>\n",
       "      <th>m4</th>\n",
       "      <th>m5</th>\n",
       "      <th>m6</th>\n",
       "      <th>m7</th>\n",
       "      <th>m8</th>\n",
       "      <th>m9</th>\n",
       "      <th>m10</th>\n",
       "    </tr>\n",
       "  </thead>\n",
       "  <tbody>\n",
       "    <tr>\n",
       "      <th>0</th>\n",
       "      <td>f1.dad</td>\n",
       "      <td>478.378521</td>\n",
       "      <td>172.917545</td>\n",
       "      <td>68.526095</td>\n",
       "      <td>40.311004</td>\n",
       "      <td>78.028997</td>\n",
       "      <td>0</td>\n",
       "      <td>catB</td>\n",
       "      <td>NaN</td>\n",
       "      <td>61.9421</td>\n",
       "      <td>0</td>\n",
       "      <td>valC</td>\n",
       "      <td>73.749628</td>\n",
       "    </tr>\n",
       "    <tr>\n",
       "      <th>1</th>\n",
       "      <td>f1.mom</td>\n",
       "      <td>513.883628</td>\n",
       "      <td>66.633781</td>\n",
       "      <td>52.234468</td>\n",
       "      <td>36.155647</td>\n",
       "      <td>89.747370</td>\n",
       "      <td>2</td>\n",
       "      <td>catA</td>\n",
       "      <td>NaN</td>\n",
       "      <td>68.7815</td>\n",
       "      <td>2</td>\n",
       "      <td>valA</td>\n",
       "      <td>-9999.000000</td>\n",
       "    </tr>\n",
       "    <tr>\n",
       "      <th>2</th>\n",
       "      <td>f1.s1</td>\n",
       "      <td>134.723860</td>\n",
       "      <td>98.217098</td>\n",
       "      <td>101.095017</td>\n",
       "      <td>34.350332</td>\n",
       "      <td>84.456329</td>\n",
       "      <td>2</td>\n",
       "      <td>catB</td>\n",
       "      <td>NaN</td>\n",
       "      <td>84.0692</td>\n",
       "      <td>2</td>\n",
       "      <td>31.4879</td>\n",
       "      <td>67.781935</td>\n",
       "    </tr>\n",
       "    <tr>\n",
       "      <th>3</th>\n",
       "      <td>f1.p1</td>\n",
       "      <td>125.906051</td>\n",
       "      <td>86.408676</td>\n",
       "      <td>34.762858</td>\n",
       "      <td>48.446444</td>\n",
       "      <td>49.836082</td>\n",
       "      <td>0</td>\n",
       "      <td>catB</td>\n",
       "      <td>NaN</td>\n",
       "      <td>79.1503</td>\n",
       "      <td>1</td>\n",
       "      <td>61.3154</td>\n",
       "      <td>84.666253</td>\n",
       "    </tr>\n",
       "    <tr>\n",
       "      <th>4</th>\n",
       "      <td>f1.s2</td>\n",
       "      <td>114.137627</td>\n",
       "      <td>32.724621</td>\n",
       "      <td>110.824562</td>\n",
       "      <td>44.066579</td>\n",
       "      <td>37.242210</td>\n",
       "      <td>2</td>\n",
       "      <td>catD</td>\n",
       "      <td>NaN</td>\n",
       "      <td>62.3244</td>\n",
       "      <td>1</td>\n",
       "      <td>valB</td>\n",
       "      <td>59.195742</td>\n",
       "    </tr>\n",
       "  </tbody>\n",
       "</table>\n",
       "</div>"
      ],
      "text/plain": [
       "  personId         age          iq          m1         m2         m3  m4  \\\n",
       "0   f1.dad  478.378521  172.917545   68.526095  40.311004  78.028997   0   \n",
       "1   f1.mom  513.883628   66.633781   52.234468  36.155647  89.747370   2   \n",
       "2    f1.s1  134.723860   98.217098  101.095017  34.350332  84.456329   2   \n",
       "3    f1.p1  125.906051   86.408676   34.762858  48.446444  49.836082   0   \n",
       "4    f1.s2  114.137627   32.724621  110.824562  44.066579  37.242210   2   \n",
       "\n",
       "     m5  m6       m7 m8       m9          m10  \n",
       "0  catB NaN  61.9421  0     valC    73.749628  \n",
       "1  catA NaN  68.7815  2     valA -9999.000000  \n",
       "2  catB NaN  84.0692  2  31.4879    67.781935  \n",
       "3  catB NaN  79.1503  1  61.3154    84.666253  \n",
       "4  catD NaN  62.3244  1     valB    59.195742  "
      ]
     },
     "execution_count": 44,
     "metadata": {},
     "output_type": "execute_result"
    }
   ],
   "source": [
    "i1_df.head()"
   ]
  },
  {
   "cell_type": "code",
   "execution_count": 45,
   "metadata": {},
   "outputs": [],
   "source": [
    "i1_df.to_csv(\"instruments/i1.csv\", index=False)"
   ]
  },
  {
   "cell_type": "code",
   "execution_count": null,
   "metadata": {},
   "outputs": [],
   "source": []
  }
 ],
 "metadata": {
  "kernelspec": {
   "display_name": "Python 3",
   "language": "python",
   "name": "python3"
  },
  "language_info": {
   "codemirror_mode": {
    "name": "ipython",
    "version": 3
   },
   "file_extension": ".py",
   "mimetype": "text/x-python",
   "name": "python",
   "nbconvert_exporter": "python",
   "pygments_lexer": "ipython3",
   "version": "3.6.5"
  }
 },
 "nbformat": 4,
 "nbformat_minor": 2
}
