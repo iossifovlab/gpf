{
 "cells": [
  {
   "cell_type": "code",
   "execution_count": 4,
   "metadata": {
    "collapsed": false
   },
   "outputs": [
    {
     "name": "stderr",
     "output_type": "stream",
     "text": [
      "the twin 13772.s2 is not quite in the collection\n",
      "set(['1995-09', '1998-11'])\n",
      "birth month mismatch for twins from family 11665\n",
      "the twin 12782.s2 is not quite in the collection\n"
     ]
    }
   ],
   "source": [
    "import VariantAnnotation\n",
    "import coverage\n",
    "import pytest\n",
    "import csv\n",
    "from DAE import genomesDB\n",
    "\n",
    "GA = genomesDB.get_genome()\n",
    "gmDB = genomesDB.get_gene_models()"
   ]
  },
  {
   "cell_type": "code",
   "execution_count": 2,
   "metadata": {
    "collapsed": false
   },
   "outputs": [
    {
     "name": "stdout",
     "output_type": "stream",
     "text": [
      "============================================================================================================================== test session starts ===============================================================================================================================\n",
      "platform linux2 -- Python 2.7.12, pytest-3.0.3, py-1.4.31, pluggy-0.4.0\n",
      "rootdir: /home/nikidimi/seqpipe/gpf/DAE, inifile: pytest.ini\n",
      "plugins: cov-2.5.1, pylama-7.3.3\n",
      "collected 90 items\n",
      "\n",
      "tests/VariantAnnotation_tests.py ..........................................................................................\n",
      "\n",
      "=========================================================================================================================== 90 passed in 0.52 seconds ============================================================================================================================\n"
     ]
    }
   ],
   "source": [
    "cov = coverage.Coverage()\n",
    "cov.start()\n",
    "pytest.main(['tests/VariantAnnotation_tests.py'])\n",
    "cov.stop()\n",
    "all_tests_missing_lines = set(cov.analysis2(VariantAnnotation)[3])"
   ]
  },
  {
   "cell_type": "code",
   "execution_count": null,
   "metadata": {
    "collapsed": true
   },
   "outputs": [],
   "source": [
    "filepath = \"/home/nikidimi/seqpipe/data-dev-small/cccc/Chung2015CHD/Chung2015CHD.denovo-annot.txt\""
   ]
  },
  {
   "cell_type": "code",
   "execution_count": null,
   "metadata": {
    "collapsed": false
   },
   "outputs": [],
   "source": [
    "interesting_effects = []\n",
    "with open(\"/home/nikidimi/seqpipe/data-dev-small/filenames_2\", 'rb') as filenames:\n",
    "    for line in filenames:\n",
    "        filepath = \"/home/nikidimi/seqpipe/data-dev-small/\" + line.strip()\n",
    "        print(\"Processing \" + line.strip())\n",
    "        with open(filepath, 'rb') as csvfile:\n",
    "            reader = csv.DictReader(csvfile, delimiter='\\t')\n",
    "            for line in reader:\n",
    "                try:\n",
    "                    cov = coverage.Coverage()\n",
    "                    cov.start()\n",
    "                    _ = VariantAnnotation.annotate_variant(gmDB, GA, loc=line['location'], var=line['variant'])\n",
    "                    cov.stop()\n",
    "                    current_variant_missing = set(cov.analysis2(VariantAnnotation)[3])\n",
    "                    diff_set = all_tests_missing_lines - current_variant_missing\n",
    "                    if len(diff_set) > 0:\n",
    "                        effect = {\n",
    "                            'lines': diff_set,\n",
    "                            'count': len(diff_set),\n",
    "                            'data': line,\n",
    "                            'var': line['variant'],\n",
    "                            'loc': line['location']\n",
    "                        }\n",
    "                        interesting_effects.append(effect)\n",
    "                except:\n",
    "                    print(\"Ignoring exception\")\n",
    "                    pass"
   ]
  },
  {
   "cell_type": "code",
   "execution_count": null,
   "metadata": {
    "collapsed": false
   },
   "outputs": [],
   "source": [
    "sorted_effects = sorted(interesting_effects, key=lambda k: k['count'], reverse=True)"
   ]
  },
  {
   "cell_type": "code",
   "execution_count": null,
   "metadata": {
    "collapsed": false
   },
   "outputs": [],
   "source": [
    "sorted_effects"
   ]
  },
  {
   "cell_type": "code",
   "execution_count": null,
   "metadata": {
    "collapsed": false
   },
   "outputs": [],
   "source": [
    "all_lines = reduce(lambda acc, ef: acc | ef['lines'], sorted_effects, set())"
   ]
  },
  {
   "cell_type": "code",
   "execution_count": null,
   "metadata": {
    "collapsed": true
   },
   "outputs": [],
   "source": [
    "coverage = []\n",
    "while len(all_lines) > 0:\n",
    "    all_lines = all_lines - sorted_effects[0]['lines']\n",
    "    coverage.append(sorted_effects[0])\n",
    "    \n",
    "    for effect in sorted_effects[1:]:\n",
    "        effect['lines'] = effect['lines'] - sorted_effects[0]['lines']\n",
    "        effect['count'] = len(effect['lines'])\n",
    "    sorted_effects = sorted(sorted_effects[1:], key=lambda k: k['count'], reverse=True)"
   ]
  },
  {
   "cell_type": "code",
   "execution_count": null,
   "metadata": {
    "collapsed": false
   },
   "outputs": [],
   "source": [
    "len(sorted_effects)"
   ]
  },
  {
   "cell_type": "code",
   "execution_count": null,
   "metadata": {
    "collapsed": false
   },
   "outputs": [],
   "source": [
    "len(coverage)"
   ]
  },
  {
   "cell_type": "code",
   "execution_count": null,
   "metadata": {
    "collapsed": false
   },
   "outputs": [],
   "source": [
    "\n",
    "coverage[0]"
   ]
  },
  {
   "cell_type": "code",
   "execution_count": null,
   "metadata": {
    "collapsed": false
   },
   "outputs": [],
   "source": [
    "asserts_text = \"\"\"\n",
    "        self.assertEqual({0}.gene, {1})\n",
    "        self.assertEqual({0}.transcript_id, {2})\n",
    "        self.assertEqual({0}.strand, {3})\n",
    "        self.assertEqual({0}.effect, {4})\n",
    "        self.assertEqual({0}.prot_pos, {5})\n",
    "        self.assertEqual({0}.prot_length, {6})\n",
    "        self.assertEqual({0}.aa_change, {7})\n",
    "\"\"\"\n",
    "\n",
    "singe_res_text = \"\"\"\n",
    "    def {0}(self):\n",
    "        [effect] = VariantAnnotation.annotate_variant(self.gmDB, self.GA,\n",
    "                                                      loc=\"{1}\",\n",
    "                                                      var=\"{2}\")\n",
    "\"\"\"\n",
    "\n",
    "multiple_res_text = \"\"\"\n",
    "    def {0}(self):\n",
    "        effects = VariantAnnotation.annotate_variant(self.gmDB, self.GA,\n",
    "                                                     loc=\"{1}\",\n",
    "                                                     var=\"{2}\")\n",
    "        self.assertEqual(len(effects), {3})\n",
    "        effects_sorted = sorted(effects, key=lambda k: k.transcript_id)\n",
    "\"\"\"\n",
    "\n",
    "def add_quotes(string):\n",
    "    if string is None:\n",
    "        return string\n",
    "    else:\n",
    "        return \"\\\"{}\\\"\".format(string)\n",
    "\n",
    "def generate_single_result_test(loc, var, effect, name):\n",
    "    test_code = singe_res_text.format(name, loc, var)\n",
    "    assert_code = asserts_text.format(\"effect\",\n",
    "                                      add_quotes(effect.gene), \n",
    "                                      add_quotes(effect.transcript_id),\n",
    "                                      add_quotes(effect.strand), \n",
    "                                      add_quotes(effect.effect), \n",
    "                                      effect.prot_pos, effect.prot_length, \n",
    "                                      add_quotes(effect.aa_change))\n",
    "    return test_code + assert_code\n",
    "\n",
    "def generate_multi_line_result_test(loc, var, effects, name):\n",
    "    effects_sorted = sorted(effects, key=lambda k: k.transcript_id)\n",
    "    \n",
    "\n",
    "    test_code = multiple_res_text.format(name, loc, var, len(effects_sorted))\n",
    "    \n",
    "    for i, effect in enumerate(effects_sorted):\n",
    "        effects_elem = \"effects_sorted[{}]\".format(i)\n",
    "        assert_code = asserts_text.format(effects_elem, \n",
    "                                          add_quotes(effect.gene), \n",
    "                                          add_quotes(effect.transcript_id),\n",
    "                                          add_quotes(effect.strand), \n",
    "                                          add_quotes(effect.effect), \n",
    "                                          effect.prot_pos, effect.prot_length, \n",
    "                                          add_quotes(effect.aa_change))\n",
    "        test_code += assert_code\n",
    "    \n",
    "    return test_code\n",
    "\n",
    "def generate_test(loc, var):\n",
    "    chrom = loc.split(\":\")[0]\n",
    "    chrom_loc = loc.split(\":\")[1]\n",
    "    name = \"test_chr{0}_{1}_{2}_var\".format(chrom, chrom_loc, var[:3])\n",
    "    result = VariantAnnotation.annotate_variant(gmDB, GA, \n",
    "                                                loc=loc, \n",
    "                                                var=var)\n",
    "    if len(result) == 1:\n",
    "        return generate_single_result_test(loc, var, result[0], name)\n",
    "    else:\n",
    "        return generate_multi_line_result_test(loc, var, result, name)"
   ]
  },
  {
   "cell_type": "code",
   "execution_count": null,
   "metadata": {
    "collapsed": false
   },
   "outputs": [],
   "source": [
    "with open('autotests.py', 'w') as testsfile:\n",
    "    for cov in coverage:\n",
    "        testsfile.write(generate_test(cov['loc'], cov['var']))"
   ]
  },
  {
   "cell_type": "code",
   "execution_count": 3,
   "metadata": {
    "collapsed": false
   },
   "outputs": [],
   "source": [
    "possible_effects = [\"del(1)\", \"del(2)\", \"del(3)\", \n",
    "                    \"ins(A)\", \"ins(C)\", \"ins(G)\", \"ins(T)\",\n",
    "                    \"sub(A->C)\", \"sub(A->G)\", \"sub(A->T)\", \n",
    "                    \"sub(C->A)\", \"sub(C->G)\", \"sub(C->T)\", \n",
    "                    \"sub(G->A)\", \"sub(G->C)\", \"sub(G->T)\", \n",
    "                    \"sub(T->A)\", \"sub(T->C)\", \"sub(T->G)\"]"
   ]
  },
  {
   "cell_type": "code",
   "execution_count": 38,
   "metadata": {
    "collapsed": false
   },
   "outputs": [],
   "source": [
    "def search_for_effects(i):\n",
    "    interesting_effects = []\n",
    "    for effect in possible_effects:\n",
    "        cov = coverage.Coverage()\n",
    "        cov.start()\n",
    "        loc = \"1:{}\".format(i)\n",
    "        _ = VariantAnnotation.annotate_variant(gmDB, GA, loc=loc, var=effect)\n",
    "        cov.stop()\n",
    "        current_variant_missing = set(cov.analysis2(VariantAnnotation)[3])\n",
    "        diff_set = all_tests_missing_lines - current_variant_missing\n",
    "        if len(diff_set) > 0:\n",
    "            effect = {\n",
    "                'lines': diff_set,\n",
    "                'count': len(diff_set),\n",
    "                'data': line,\n",
    "                'var': line['variant'],\n",
    "                'loc': line['location']\n",
    "            }\n",
    "            search_for_effects.q.put(effect)\n",
    "\n",
    "def search_for_effects_init(q):\n",
    "    search_for_effects.q = q"
   ]
  },
  {
   "cell_type": "code",
   "execution_count": 39,
   "metadata": {
    "collapsed": false
   },
   "outputs": [
    {
     "data": {
      "text/plain": [
       "0"
      ]
     },
     "execution_count": 39,
     "metadata": {},
     "output_type": "execute_result"
    }
   ],
   "source": [
    "len(interesting_effects)"
   ]
  },
  {
   "cell_type": "code",
   "execution_count": null,
   "metadata": {
    "collapsed": false
   },
   "outputs": [
    {
     "name": "stderr",
     "output_type": "stream",
     "text": [
      "Process PoolWorker-21:\n",
      "Traceback (most recent call last):\n",
      "Process PoolWorker-22:\n",
      "Process PoolWorker-23:\n",
      "  File \"/home/nikidimi/anaconda3/envs/seqpipe/lib/python2.7/multiprocessing/process.py\", line 258, in _bootstrap\n",
      "Process PoolWorker-24:\n",
      "Traceback (most recent call last):\n",
      "Traceback (most recent call last):\n",
      "Traceback (most recent call last):\n",
      "  File \"/home/nikidimi/anaconda3/envs/seqpipe/lib/python2.7/multiprocessing/process.py\", line 258, in _bootstrap\n",
      "    self.run()\n",
      "    self.run()\n",
      "  File \"/home/nikidimi/anaconda3/envs/seqpipe/lib/python2.7/multiprocessing/process.py\", line 258, in _bootstrap\n",
      "  File \"/home/nikidimi/anaconda3/envs/seqpipe/lib/python2.7/multiprocessing/process.py\", line 114, in run\n",
      "  File \"/home/nikidimi/anaconda3/envs/seqpipe/lib/python2.7/multiprocessing/process.py\", line 114, in run\n",
      "  File \"/home/nikidimi/anaconda3/envs/seqpipe/lib/python2.7/multiprocessing/process.py\", line 258, in _bootstrap\n",
      "    self.run()\n",
      "    self._target(*self._args, **self._kwargs)\n",
      "    self._target(*self._args, **self._kwargs)\n",
      "    self.run()\n",
      "  File \"/home/nikidimi/anaconda3/envs/seqpipe/lib/python2.7/multiprocessing/process.py\", line 114, in run\n",
      "  File \"/home/nikidimi/anaconda3/envs/seqpipe/lib/python2.7/multiprocessing/pool.py\", line 113, in worker\n",
      "  File \"/home/nikidimi/anaconda3/envs/seqpipe/lib/python2.7/multiprocessing/pool.py\", line 113, in worker\n",
      "  File \"/home/nikidimi/anaconda3/envs/seqpipe/lib/python2.7/multiprocessing/process.py\", line 114, in run\n",
      "    result = (True, func(*args, **kwds))\n",
      "    result = (True, func(*args, **kwds))\n",
      "  File \"/home/nikidimi/anaconda3/envs/seqpipe/lib/python2.7/multiprocessing/pool.py\", line 65, in mapstar\n",
      "    self._target(*self._args, **self._kwargs)\n",
      "    self._target(*self._args, **self._kwargs)\n",
      "    return map(*args)\n",
      "  File \"/home/nikidimi/anaconda3/envs/seqpipe/lib/python2.7/multiprocessing/pool.py\", line 113, in worker\n",
      "  File \"/home/nikidimi/anaconda3/envs/seqpipe/lib/python2.7/multiprocessing/pool.py\", line 65, in mapstar\n",
      "  File \"<ipython-input-38-0581af1f6e9b>\", line 9, in search_for_effects\n",
      "  File \"/home/nikidimi/anaconda3/envs/seqpipe/lib/python2.7/multiprocessing/pool.py\", line 113, in worker\n",
      "    result = (True, func(*args, **kwds))\n",
      "    result = (True, func(*args, **kwds))\n",
      "  File \"/home/nikidimi/anaconda3/envs/seqpipe/lib/python2.7/multiprocessing/pool.py\", line 65, in mapstar\n",
      "    return map(*args)\n",
      "  File \"/home/nikidimi/anaconda3/envs/seqpipe/lib/python2.7/multiprocessing/pool.py\", line 65, in mapstar\n",
      "    current_variant_missing = set(cov.analysis2(VariantAnnotation)[3])\n",
      "    return map(*args)\n",
      "    return map(*args)\n",
      "  File \"/home/nikidimi/anaconda3/envs/seqpipe/lib/python2.7/site-packages/coverage/control.py\", line 940, in analysis2\n",
      "  File \"<ipython-input-38-0581af1f6e9b>\", line 9, in search_for_effects\n",
      "  File \"<ipython-input-38-0581af1f6e9b>\", line 9, in search_for_effects\n",
      "    current_variant_missing = set(cov.analysis2(VariantAnnotation)[3])\n",
      "  File \"<ipython-input-38-0581af1f6e9b>\", line 9, in search_for_effects\n",
      "    analysis = self._analyze(morf)\n",
      "    current_variant_missing = set(cov.analysis2(VariantAnnotation)[3])\n",
      "  File \"/home/nikidimi/anaconda3/envs/seqpipe/lib/python2.7/site-packages/coverage/control.py\", line 959, in _analyze\n",
      "  File \"/home/nikidimi/anaconda3/envs/seqpipe/lib/python2.7/site-packages/coverage/control.py\", line 940, in analysis2\n",
      "  File \"/home/nikidimi/anaconda3/envs/seqpipe/lib/python2.7/site-packages/coverage/control.py\", line 946, in analysis2\n",
      "    current_variant_missing = set(cov.analysis2(VariantAnnotation)[3])\n",
      "  File \"/home/nikidimi/anaconda3/envs/seqpipe/lib/python2.7/site-packages/coverage/control.py\", line 940, in analysis2\n",
      "    analysis.missing_formatted(),\n",
      "    return Analysis(self.data, it)\n",
      "    analysis = self._analyze(morf)\n",
      "  File \"/home/nikidimi/anaconda3/envs/seqpipe/lib/python2.7/site-packages/coverage/control.py\", line 959, in _analyze\n",
      "    analysis = self._analyze(morf)\n",
      "    return Analysis(self.data, it)\n",
      "  File \"/home/nikidimi/anaconda3/envs/seqpipe/lib/python2.7/site-packages/coverage/results.py\", line 57, in missing_formatted\n",
      "  File \"/home/nikidimi/anaconda3/envs/seqpipe/lib/python2.7/site-packages/coverage/results.py\", line 19, in __init__\n",
      "    self.statements = self.file_reporter.lines()\n",
      "  File \"/home/nikidimi/anaconda3/envs/seqpipe/lib/python2.7/site-packages/coverage/results.py\", line 19, in __init__\n",
      "  File \"/home/nikidimi/anaconda3/envs/seqpipe/lib/python2.7/site-packages/coverage/control.py\", line 959, in _analyze\n",
      "    return format_lines(self.statements, self.missing)\n",
      "  File \"/home/nikidimi/anaconda3/envs/seqpipe/lib/python2.7/site-packages/coverage/python.py\", line 186, in lines\n",
      "    return self.parser.statements\n",
      "  File \"/home/nikidimi/anaconda3/envs/seqpipe/lib/python2.7/site-packages/coverage/misc.py\", line 118, in format_lines\n",
      "    return Analysis(self.data, it)\n",
      "    self.statements = self.file_reporter.lines()\n",
      "    statements = sorted(statements)\n",
      "  File \"/home/nikidimi/anaconda3/envs/seqpipe/lib/python2.7/site-packages/coverage/results.py\", line 19, in __init__\n",
      "  File \"/home/nikidimi/anaconda3/envs/seqpipe/lib/python2.7/site-packages/coverage/python.py\", line 186, in lines\n",
      "  File \"/home/nikidimi/anaconda3/envs/seqpipe/lib/python2.7/site-packages/coverage/python.py\", line 181, in parser\n",
      "    return self.parser.statements\n",
      "    self.statements = self.file_reporter.lines()\n",
      "KeyboardInterrupt\n",
      "    self._parser.parse_source()\n",
      "  File \"/home/nikidimi/anaconda3/envs/seqpipe/lib/python2.7/site-packages/coverage/python.py\", line 181, in parser\n",
      "  File \"/home/nikidimi/anaconda3/envs/seqpipe/lib/python2.7/site-packages/coverage/python.py\", line 186, in lines\n",
      "    self._parser.parse_source()\n",
      "    return self.parser.statements\n",
      "  File \"/home/nikidimi/anaconda3/envs/seqpipe/lib/python2.7/site-packages/coverage/parser.py\", line 253, in parse_source\n",
      "  File \"/home/nikidimi/anaconda3/envs/seqpipe/lib/python2.7/site-packages/coverage/parser.py\", line 237, in parse_source\n",
      "  File \"/home/nikidimi/anaconda3/envs/seqpipe/lib/python2.7/site-packages/coverage/python.py\", line 181, in parser\n",
      "    self._raw_parse()\n",
      "    self.statements = self.first_lines(starts) - ignore\n",
      "  File \"/home/nikidimi/anaconda3/envs/seqpipe/lib/python2.7/site-packages/coverage/parser.py\", line 188, in _raw_parse\n",
      "    self._parser.parse_source()\n",
      "  File \"/home/nikidimi/anaconda3/envs/seqpipe/lib/python2.7/site-packages/coverage/parser.py\", line 237, in parse_source\n",
      "  File \"/home/nikidimi/anaconda3/envs/seqpipe/lib/python2.7/site-packages/coverage/parser.py\", line 219, in first_lines\n",
      "    if ttext.strip() and toktype != tokenize.COMMENT:\n",
      "KeyboardInterrupt\n",
      "    self._raw_parse()\n",
      "    return set(self.first_line(l) for l in lines)\n",
      "  File \"/home/nikidimi/anaconda3/envs/seqpipe/lib/python2.7/site-packages/coverage/parser.py\", line 206, in _raw_parse\n",
      "    self.raw_statements.update(self.byte_parser._find_statements())\n",
      "  File \"/home/nikidimi/anaconda3/envs/seqpipe/lib/python2.7/site-packages/coverage/parser.py\", line 219, in <genexpr>\n",
      "  File \"/home/nikidimi/anaconda3/envs/seqpipe/lib/python2.7/site-packages/coverage/parser.py\", line 96, in byte_parser\n",
      "    return set(self.first_line(l) for l in lines)\n",
      "  File \"/home/nikidimi/anaconda3/envs/seqpipe/lib/python2.7/site-packages/coverage/parser.py\", line 210, in first_line\n",
      "    self._byte_parser = ByteParser(self.text, filename=self.filename)\n",
      "    return self._multiline.get(line, line)\n",
      "  File \"/home/nikidimi/anaconda3/envs/seqpipe/lib/python2.7/site-packages/coverage/parser.py\", line 363, in __init__\n",
      "KeyboardInterrupt\n",
      "    self.code = compile_unicode(text, filename, \"exec\")\n",
      "  File \"/home/nikidimi/anaconda3/envs/seqpipe/lib/python2.7/site-packages/coverage/phystokens.py\", line 286, in compile_unicode\n",
      "    code = compile(source, filename, mode)\n",
      "KeyboardInterrupt\n"
     ]
    }
   ],
   "source": [
    "%%time\n",
    "from multiprocessing import Process, Queue\n",
    "\n",
    "q = Queue()\n",
    "pool = Pool(None, search_for_effects_init, [q])\n",
    "res = pool.map(search_for_effects, range(14600, 15000))"
   ]
  },
  {
   "cell_type": "code",
   "execution_count": 37,
   "metadata": {
    "collapsed": false
   },
   "outputs": [
    {
     "name": "stdout",
     "output_type": "stream",
     "text": [
      "del(1)\n",
      "del(1)\n",
      "del(2)\n",
      "del(2)\n",
      "del(1)\n",
      "del(3)\n",
      "del(1)\n",
      "del(3)\n",
      "del(2)\n",
      "del(2)\n",
      "ins(A)\n",
      "ins(A)\n",
      "del(3)\n",
      "del(3)\n",
      "ins(C)\n",
      "ins(C)\n",
      "ins(A)\n",
      "ins(G)\n",
      "ins(C)\n",
      "ins(G)\n",
      "ins(A)\n",
      "ins(T)\n",
      "ins(G)\n",
      "ins(C)\n",
      "ins(T)\n",
      "sub(A->C)\n",
      "ins(G)\n",
      "ins(T)\n",
      "sub(A->C)\n",
      "sub(A->G)\n",
      "ins(T)\n",
      "sub(A->C)\n",
      "sub(A->G)\n",
      "sub(A->T)\n",
      "sub(A->G)\n",
      "sub(A->T)\n",
      "sub(A->C)\n",
      "sub(C->A)\n",
      "sub(A->T)\n",
      "sub(C->A)\n",
      "sub(A->G)\n",
      "sub(C->G)\n",
      "sub(A->T)\n",
      "sub(C->T)\n",
      "sub(C->G)\n",
      "sub(C->A)\n",
      "sub(C->A)\n",
      "sub(C->T)\n",
      "sub(C->G)\n",
      "sub(C->G)\n",
      "sub(G->A)\n",
      "sub(G->A)\n",
      "sub(C->T)\n",
      "sub(C->T)\n",
      "sub(G->C)\n",
      "sub(G->C)\n",
      "sub(G->A)\n",
      "sub(G->T)\n",
      "sub(G->A)\n",
      "sub(G->T)\n",
      "sub(G->C)\n",
      "sub(T->A)\n",
      "sub(G->C)\n",
      "sub(T->A)\n",
      "sub(G->T)\n",
      "sub(G->T)\n",
      "sub(T->C)\n",
      "sub(T->C)\n",
      "sub(T->A)\n",
      "sub(T->A)\n",
      "sub(T->G)\n",
      "sub(T->G)\n",
      "sub(T->C)\n",
      "sub(T->C)\n",
      "del(1)\n",
      "del(1)\n",
      "sub(T->G)\n",
      "del(2)\n",
      "del(2)\n",
      "del(1)\n",
      "sub(T->G)\n",
      "del(3)\n",
      "del(2)\n",
      "del(3)\n",
      "del(1)\n",
      "ins(A)\n",
      "del(3)\n",
      "ins(A)\n",
      "ins(C)\n",
      "del(2)\n",
      "ins(A)\n",
      "ins(C)\n",
      "ins(G)\n",
      "ins(C)\n",
      "ins(G)\n",
      "del(3)\n",
      "ins(T)\n",
      "ins(G)\n",
      "ins(T)\n",
      "ins(A)\n",
      "sub(A->C)\n",
      "ins(T)\n",
      "sub(A->C)\n",
      "sub(A->G)\n",
      "sub(A->C)\n",
      "ins(C)\n",
      "sub(A->G)\n",
      "sub(A->T)\n",
      "sub(A->G)\n",
      "sub(A->T)\n",
      "ins(G)\n",
      "sub(A->T)\n",
      "sub(C->A)\n",
      "sub(C->A)\n",
      "ins(T)\n",
      "sub(C->A)\n",
      "sub(C->G)\n",
      "sub(C->G)\n",
      "sub(C->G)\n",
      "sub(C->T)\n",
      "sub(A->C)\n",
      "sub(C->T)\n",
      "sub(C->T)\n",
      "sub(G->A)\n",
      "sub(A->G)\n",
      "sub(G->A)\n",
      "sub(G->A)\n",
      "sub(G->C)\n",
      "sub(A->T)\n",
      "sub(G->C)\n",
      "sub(G->C)\n",
      "sub(G->T)\n",
      "sub(G->T)\n",
      "sub(G->T)\n",
      "sub(T->A)\n",
      "sub(C->A)\n",
      "sub(T->A)\n",
      "sub(T->C)\n",
      "sub(T->A)\n",
      "sub(C->G)\n",
      "sub(T->C)\n",
      "sub(C->T)\n",
      "sub(T->G)\n",
      "sub(T->G)\n",
      "sub(T->C)\n",
      "del(1)\n",
      "sub(G->A)\n",
      "del(1)\n",
      "sub(T->G)\n",
      "del(2)\n",
      "sub(G->C)\n",
      "del(2)\n",
      "del(3)\n",
      "sub(G->T)\n",
      "del(3)\n",
      "ins(A)\n",
      "sub(T->A)\n",
      "ins(A)\n",
      "ins(C)\n",
      "sub(T->C)\n",
      "ins(C)\n",
      "ins(G)\n",
      "sub(T->G)\n",
      "ins(G)\n",
      "ins(T)\n",
      "ins(T)\n",
      "sub(A->C)\n",
      "sub(A->C)\n",
      "sub(A->G)\n",
      "sub(A->G)\n",
      "sub(A->T)\n",
      "sub(A->T)\n",
      "sub(C->A)\n",
      "sub(C->A)\n",
      "sub(C->G)\n",
      "sub(C->G)\n",
      "sub(C->T)\n",
      "sub(C->T)\n",
      "sub(G->A)\n",
      "sub(G->A)\n",
      "sub(G->C)\n",
      "sub(G->C)\n",
      "sub(G->T)\n",
      "sub(G->T)\n",
      "sub(T->A)\n",
      "sub(T->A)\n",
      "sub(T->C)\n",
      "sub(T->C)\n",
      "sub(T->G)\n",
      "sub(T->G)\n"
     ]
    }
   ],
   "source": [
    "while not q.empty():\n",
    "    print(q.get())"
   ]
  },
  {
   "cell_type": "code",
   "execution_count": 6,
   "metadata": {
    "collapsed": false
   },
   "outputs": [
    {
     "name": "stdout",
     "output_type": "stream",
     "text": [
      "{'HW': '0.0000', 'all.prcntParCalled': '20.28', 'all.nParCalled': '4609', 'effectType': 'non-coding', 'variant': 'sub(G->C)', 'familyData': 'NoFamilyData', 'effectGene': 'DDX11L1:non-coding', 'all.altFreq': '0.02', 'chr': '1', 'effectDetails': '1652', 'position': '13372', 'all.nAltAlls': '2'}\n"
     ]
    }
   ],
   "source": [
    "import gzip\n",
    "with gzip.open(\"/home/nikidimi/seqpipe/data-dev-small/cccc/ExAC-0.1/ExAC-0.1.format-annot.txt.bgz\") as f:\n",
    "    reader = csv.DictReader(f, delimiter='\\t')\n",
    "    for line in reader:\n",
    "        print(line)\n",
    "        break"
   ]
  },
  {
   "cell_type": "code",
   "execution_count": null,
   "metadata": {
    "collapsed": true
   },
   "outputs": [],
   "source": []
  }
 ],
 "metadata": {
  "anaconda-cloud": {},
  "kernelspec": {
   "display_name": "Python [conda env:seqpipe]",
   "language": "python",
   "name": "conda-env-seqpipe-py"
  },
  "language_info": {
   "codemirror_mode": {
    "name": "ipython",
    "version": 2
   },
   "file_extension": ".py",
   "mimetype": "text/x-python",
   "name": "python",
   "nbconvert_exporter": "python",
   "pygments_lexer": "ipython2",
   "version": "2.7.12"
  }
 },
 "nbformat": 4,
 "nbformat_minor": 1
}
