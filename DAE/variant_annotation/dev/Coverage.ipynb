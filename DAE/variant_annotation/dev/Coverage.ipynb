{
 "cells": [
  {
   "cell_type": "code",
   "execution_count": 1,
   "metadata": {
    "collapsed": false
   },
   "outputs": [
    {
     "name": "stderr",
     "output_type": "stream",
     "text": [
      "the twin 13772.s2 is not quite in the collection\n",
      "set(['1995-09', '1998-11'])\n",
      "birth month mismatch for twins from family 11665\n",
      "the twin 12782.s2 is not quite in the collection\n"
     ]
    }
   ],
   "source": [
    "import VariantAnnotation\n",
    "import coverage\n",
    "import pytest\n",
    "import csv\n",
    "from DAE import genomesDB\n",
    "\n",
    "GA = genomesDB.get_genome()\n",
    "gmDB = genomesDB.get_gene_models()"
   ]
  },
  {
   "cell_type": "code",
   "execution_count": 2,
   "metadata": {
    "collapsed": false
   },
   "outputs": [
    {
     "name": "stdout",
     "output_type": "stream",
     "text": [
      "============================================================================================================================== test session starts ===============================================================================================================================\n",
      "platform linux2 -- Python 2.7.12, pytest-3.0.3, py-1.4.31, pluggy-0.4.0\n",
      "rootdir: /home/nikidimi/seqpipe/gpf/DAE, inifile: pytest.ini\n",
      "plugins: cov-2.5.1, pylama-7.3.3\n",
      "\n",
      "========================================================================================================================== no tests ran in 0.01 seconds ==========================================================================================================================\n"
     ]
    },
    {
     "name": "stderr",
     "output_type": "stream",
     "text": [
      "ERROR: file not found: tests/VariantAnnotation_tests.py\n",
      "Coverage.py warning: No data was collected. (no-data-collected)\n"
     ]
    }
   ],
   "source": [
    "cov = coverage.Coverage()\n",
    "cov.start()\n",
    "pytest.main(['tests/VariantAnnotation_tests.py'])\n",
    "cov.stop()\n",
    "all_tests_missing_lines = set(cov.analysis2(VariantAnnotation)[3])"
   ]
  },
  {
   "cell_type": "code",
   "execution_count": null,
   "metadata": {
    "collapsed": true
   },
   "outputs": [],
   "source": [
    "filepath = \"/home/nikidimi/seqpipe/data-dev-small/cccc/Chung2015CHD/Chung2015CHD.denovo-annot.txt\""
   ]
  },
  {
   "cell_type": "code",
   "execution_count": null,
   "metadata": {
    "collapsed": false
   },
   "outputs": [],
   "source": [
    "interesting_effects = []\n",
    "with open(\"/home/nikidimi/seqpipe/data-dev-small/filenames_2\", 'rb') as filenames:\n",
    "    for line in filenames:\n",
    "        filepath = \"/home/nikidimi/seqpipe/data-dev-small/\" + line.strip()\n",
    "        print(\"Processing \" + line.strip())\n",
    "        with open(filepath, 'rb') as csvfile:\n",
    "            reader = csv.DictReader(csvfile, delimiter='\\t')\n",
    "            for line in reader:\n",
    "                try:\n",
    "                    cov = coverage.Coverage()\n",
    "                    cov.start()\n",
    "                    _ = VariantAnnotation.annotate_variant(gmDB, GA, loc=line['location'], var=line['variant'])\n",
    "                    cov.stop()\n",
    "                    current_variant_missing = set(cov.analysis2(VariantAnnotation)[3])\n",
    "                    diff_set = all_tests_missing_lines - current_variant_missing\n",
    "                    if len(diff_set) > 0:\n",
    "                        effect = {\n",
    "                            'lines': diff_set,\n",
    "                            'count': len(diff_set),\n",
    "                            'data': line,\n",
    "                            'var': line['variant'],\n",
    "                            'loc': line['location']\n",
    "                        }\n",
    "                        interesting_effects.append(effect)\n",
    "                except:\n",
    "                    print(\"Ignoring exception\")\n",
    "                    pass"
   ]
  },
  {
   "cell_type": "code",
   "execution_count": null,
   "metadata": {
    "collapsed": false
   },
   "outputs": [],
   "source": [
    "sorted_effects = sorted(interesting_effects, key=lambda k: k['count'], reverse=True)"
   ]
  },
  {
   "cell_type": "code",
   "execution_count": null,
   "metadata": {
    "collapsed": false
   },
   "outputs": [],
   "source": [
    "sorted_effects"
   ]
  },
  {
   "cell_type": "code",
   "execution_count": null,
   "metadata": {
    "collapsed": false
   },
   "outputs": [],
   "source": [
    "all_lines = reduce(lambda acc, ef: acc | ef['lines'], sorted_effects, set())"
   ]
  },
  {
   "cell_type": "code",
   "execution_count": null,
   "metadata": {
    "collapsed": true
   },
   "outputs": [],
   "source": [
    "coverage = []\n",
    "while len(all_lines) > 0:\n",
    "    all_lines = all_lines - sorted_effects[0]['lines']\n",
    "    coverage.append(sorted_effects[0])\n",
    "    \n",
    "    for effect in sorted_effects[1:]:\n",
    "        effect['lines'] = effect['lines'] - sorted_effects[0]['lines']\n",
    "        effect['count'] = len(effect['lines'])\n",
    "    sorted_effects = sorted(sorted_effects[1:], key=lambda k: k['count'], reverse=True)"
   ]
  },
  {
   "cell_type": "code",
   "execution_count": null,
   "metadata": {
    "collapsed": false
   },
   "outputs": [],
   "source": [
    "len(sorted_effects)"
   ]
  },
  {
   "cell_type": "code",
   "execution_count": null,
   "metadata": {
    "collapsed": false
   },
   "outputs": [],
   "source": [
    "len(coverage)"
   ]
  },
  {
   "cell_type": "code",
   "execution_count": null,
   "metadata": {
    "collapsed": false
   },
   "outputs": [],
   "source": [
    "\n",
    "coverage[0]"
   ]
  },
  {
   "cell_type": "code",
   "execution_count": null,
   "metadata": {
    "collapsed": false
   },
   "outputs": [],
   "source": [
    "asserts_text = \"\"\"\n",
    "        self.assertEqual({0}.gene, {1})\n",
    "        self.assertEqual({0}.transcript_id, {2})\n",
    "        self.assertEqual({0}.strand, {3})\n",
    "        self.assertEqual({0}.effect, {4})\n",
    "        self.assertEqual({0}.prot_pos, {5})\n",
    "        self.assertEqual({0}.prot_length, {6})\n",
    "        self.assertEqual({0}.aa_change, {7})\n",
    "\"\"\"\n",
    "\n",
    "singe_res_text = \"\"\"\n",
    "    def {0}(self):\n",
    "        [effect] = VariantAnnotation.annotate_variant(self.gmDB, self.GA,\n",
    "                                                      loc=\"{1}\",\n",
    "                                                      var=\"{2}\")\n",
    "\"\"\"\n",
    "\n",
    "multiple_res_text = \"\"\"\n",
    "    def {0}(self):\n",
    "        effects = VariantAnnotation.annotate_variant(self.gmDB, self.GA,\n",
    "                                                     loc=\"{1}\",\n",
    "                                                     var=\"{2}\")\n",
    "        self.assertEqual(len(effects), {3})\n",
    "        effects_sorted = sorted(effects, key=lambda k: k.transcript_id)\n",
    "\"\"\"\n",
    "\n",
    "def add_quotes(string):\n",
    "    if string is None:\n",
    "        return string\n",
    "    else:\n",
    "        return \"\\\"{}\\\"\".format(string)\n",
    "\n",
    "def generate_single_result_test(loc, var, effect, name):\n",
    "    test_code = singe_res_text.format(name, loc, var)\n",
    "    assert_code = asserts_text.format(\"effect\",\n",
    "                                      add_quotes(effect.gene), \n",
    "                                      add_quotes(effect.transcript_id),\n",
    "                                      add_quotes(effect.strand), \n",
    "                                      add_quotes(effect.effect), \n",
    "                                      effect.prot_pos, effect.prot_length, \n",
    "                                      add_quotes(effect.aa_change))\n",
    "    return test_code + assert_code\n",
    "\n",
    "def generate_multi_line_result_test(loc, var, effects, name):\n",
    "    effects_sorted = sorted(effects, key=lambda k: k.transcript_id)\n",
    "    \n",
    "\n",
    "    test_code = multiple_res_text.format(name, loc, var, len(effects_sorted))\n",
    "    \n",
    "    for i, effect in enumerate(effects_sorted):\n",
    "        effects_elem = \"effects_sorted[{}]\".format(i)\n",
    "        assert_code = asserts_text.format(effects_elem, \n",
    "                                          add_quotes(effect.gene), \n",
    "                                          add_quotes(effect.transcript_id),\n",
    "                                          add_quotes(effect.strand), \n",
    "                                          add_quotes(effect.effect), \n",
    "                                          effect.prot_pos, effect.prot_length, \n",
    "                                          add_quotes(effect.aa_change))\n",
    "        test_code += assert_code\n",
    "    \n",
    "    return test_code\n",
    "\n",
    "def generate_test(loc, var):\n",
    "    chrom = loc.split(\":\")[0]\n",
    "    chrom_loc = loc.split(\":\")[1]\n",
    "    name = \"test_chr{0}_{1}_{2}_var\".format(chrom, chrom_loc, var[:3])\n",
    "    result = VariantAnnotation.annotate_variant(gmDB, GA, \n",
    "                                                loc=loc, \n",
    "                                                var=var)\n",
    "    if len(result) == 1:\n",
    "        return generate_single_result_test(loc, var, result[0], name)\n",
    "    else:\n",
    "        return generate_multi_line_result_test(loc, var, result, name)"
   ]
  },
  {
   "cell_type": "code",
   "execution_count": null,
   "metadata": {
    "collapsed": false
   },
   "outputs": [],
   "source": [
    "with open('autotests.py', 'w') as testsfile:\n",
    "    for cov in coverage:\n",
    "        testsfile.write(generate_test(cov['loc'], cov['var']))"
   ]
  },
  {
   "cell_type": "code",
   "execution_count": null,
   "metadata": {
    "collapsed": false
   },
   "outputs": [],
   "source": [
    "possible_effects = [\"del(1)\", \"del(2)\", \"del(3)\", \n",
    "                    \"ins(A)\", \"ins(C)\", \"ins(G)\", \"ins(T)\",\n",
    "                    \"sub(A->C)\", \"sub(A->G)\", \"sub(A->T)\", \n",
    "                    \"sub(C->A)\", \"sub(C->G)\", \"sub(C->T)\", \n",
    "                    \"sub(G->A)\", \"sub(G->C)\", \"sub(G->T)\", \n",
    "                    \"sub(T->A)\", \"sub(T->C)\", \"sub(T->G)\"]"
   ]
  },
  {
   "cell_type": "code",
   "execution_count": null,
   "metadata": {
    "collapsed": false
   },
   "outputs": [],
   "source": [
    "def search_for_effects(i):\n",
    "    interesting_effects = []\n",
    "    for effect in possible_effects:\n",
    "        cov = coverage.Coverage()\n",
    "        cov.start()\n",
    "        loc = \"1:{}\".format(i)\n",
    "        _ = VariantAnnotation.annotate_variant(gmDB, GA, loc=loc, var=effect)\n",
    "        cov.stop()\n",
    "        current_variant_missing = set(cov.analysis2(VariantAnnotation)[3])\n",
    "        diff_set = all_tests_missing_lines - current_variant_missing\n",
    "        if len(diff_set) > 0:\n",
    "            effect = {\n",
    "                'lines': diff_set,\n",
    "                'count': len(diff_set),\n",
    "                'data': line,\n",
    "                'var': line['variant'],\n",
    "                'loc': line['location']\n",
    "            }\n",
    "            search_for_effects.q.put(effect)\n",
    "\n",
    "def search_for_effects_init(q):\n",
    "    search_for_effects.q = q"
   ]
  },
  {
   "cell_type": "code",
   "execution_count": null,
   "metadata": {
    "collapsed": false
   },
   "outputs": [],
   "source": [
    "len(interesting_effects)"
   ]
  },
  {
   "cell_type": "code",
   "execution_count": null,
   "metadata": {
    "collapsed": false
   },
   "outputs": [],
   "source": [
    "%%time\n",
    "from multiprocessing import Process, Queue\n",
    "\n",
    "q = Queue()\n",
    "pool = Pool(None, search_for_effects_init, [q])\n",
    "res = pool.map(search_for_effects, range(14600, 15000))"
   ]
  },
  {
   "cell_type": "code",
   "execution_count": null,
   "metadata": {
    "collapsed": false
   },
   "outputs": [],
   "source": [
    "while not q.empty():\n",
    "    print(q.get())"
   ]
  },
  {
   "cell_type": "code",
   "execution_count": null,
   "metadata": {
    "collapsed": false
   },
   "outputs": [],
   "source": [
    "import gzip\n",
    "with gzip.open(\"/home/nikidimi/seqpipe/data-dev-small/cccc/ExAC-0.1/ExAC-0.1.format-annot.txt.bgz\") as f:\n",
    "    reader = csv.DictReader(f, delimiter='\\t')\n",
    "    for line in reader:\n",
    "        print(line)\n",
    "        break"
   ]
  },
  {
   "cell_type": "code",
   "execution_count": 5,
   "metadata": {
    "collapsed": false
   },
   "outputs": [
    {
     "data": {
      "text/plain": [
       "'GGC'"
      ]
     },
     "execution_count": 5,
     "metadata": {},
     "output_type": "execute_result"
    }
   ],
   "source": [
    "GA.getSequence(\"1\", 897349, 897351)"
   ]
  }
 ],
 "metadata": {
  "anaconda-cloud": {},
  "kernelspec": {
   "display_name": "Python [conda env:seqpipe]",
   "language": "python",
   "name": "conda-env-seqpipe-py"
  },
  "language_info": {
   "codemirror_mode": {
    "name": "ipython",
    "version": 2
   },
   "file_extension": ".py",
   "mimetype": "text/x-python",
   "name": "python",
   "nbconvert_exporter": "python",
   "pygments_lexer": "ipython2",
   "version": "2.7.12"
  }
 },
 "nbformat": 4,
 "nbformat_minor": 1
}
