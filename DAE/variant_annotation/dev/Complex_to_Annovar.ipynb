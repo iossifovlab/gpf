{
 "cells": [
  {
   "cell_type": "code",
   "execution_count": 1,
   "metadata": {
    "collapsed": false
   },
   "outputs": [
    {
     "name": "stderr",
     "output_type": "stream",
     "text": [
      "the twin 13772.s2 is not quite in the collection\n",
      "set(['1995-09', '1998-11'])\n",
      "birth month mismatch for twins from family 11665\n",
      "the twin 12782.s2 is not quite in the collection\n"
     ]
    }
   ],
   "source": [
    "import VariantAnnotation\n",
    "from DAE import genomesDB\n",
    "\n",
    "\n",
    "GA = genomesDB.get_genome()\n",
    "gmDB = genomesDB.get_gene_models()\n"
   ]
  },
  {
   "cell_type": "code",
   "execution_count": null,
   "metadata": {
    "collapsed": true
   },
   "outputs": [],
   "source": [
    "# 1\t897349\tcomplex(G->CCAA)\n",
    "loc=\"1:897349\"\n",
    "var=\"complex(G->CCAA)\"\n",
    "\n",
    "pos = 897349\n",
    "pos_last = 897349\n",
    "\n",
    "chr=\"1\""
   ]
  },
  {
   "cell_type": "code",
   "execution_count": null,
   "metadata": {
    "collapsed": false
   },
   "outputs": [],
   "source": [
    "for key in gmDB._utrModels[chr]:\n",
    "    print(key[1], key[0])\n",
    "    break"
   ]
  },
  {
   "cell_type": "code",
   "execution_count": null,
   "metadata": {
    "collapsed": false
   },
   "outputs": [],
   "source": [
    "i = gmDB._utrModels[chr][key]\n",
    "i[0].what_region(chr, pos, pos_last, prom = 0)"
   ]
  },
  {
   "cell_type": "code",
   "execution_count": null,
   "metadata": {
    "collapsed": false
   },
   "outputs": [],
   "source": [
    "promoter_len = 0\n",
    "\n",
    "for key in gmDB._utrModels[chr]:\n",
    "    if not isinstance(key, tuple):\n",
    "        continue\n",
    "\n",
    "    if pos <= key[1] + promoter_len and pos_last >= key[0] - promoter_len:\n",
    "        for i in gmDB._utrModels[chr][key]:\n",
    "            what_hit = i.what_region(chr, pos, pos_last, prom = 0)\n",
    "            \n",
    "            codingRegions = i.CDS_regions()\n",
    "            print(what_hit, codingRegions)\n",
    "            \n",
    "            for j in xrange(0, len(codingRegions)):\n",
    "                if pos <= codingRegions[j].stop and pos > codingRegions[j].start:\n",
    "                    refCodon, altCodon = VariantAnnotation.whatCodonChange_Snp(i, pos, \"A\", GA)\n",
    "                    print(refCodon, altCodon)\n",
    "                    refAA = VariantAnnotation.cod2aa(refCodon, VariantAnnotation.NuclearCode())\n",
    "                    altAA = VariantAnnotation.cod2aa(altCodon, VariantAnnotation.NuclearCode())\n",
    "                    print(refAA, altAA)\n",
    "                    \n",
    "                    print(codingRegions[j].start, codingRegions[j].stop)\n",
    "\n",
    "                \n",
    "                "
   ]
  },
  {
   "cell_type": "code",
   "execution_count": null,
   "metadata": {
    "collapsed": false
   },
   "outputs": [],
   "source": [
    "s = GA.getSequence(chr, pos, pos+100)"
   ]
  },
  {
   "cell_type": "code",
   "execution_count": null,
   "metadata": {
    "collapsed": false
   },
   "outputs": [],
   "source": [
    "\"CCAA\" + s[1:]"
   ]
  },
  {
   "cell_type": "code",
   "execution_count": null,
   "metadata": {
    "collapsed": false
   },
   "outputs": [],
   "source": [
    "import csv\n",
    "import re\n",
    "\n",
    "with open(\"/home/nikidimi/seqpipe/data-dev-small/cccc/VIP/FB-complex.txt\", \"r\") as f, \\\n",
    "     open(\"complex.avinput\", \"w\") as out_file:\n",
    "    csvfile = csv.reader(f, delimiter='\\t')\n",
    "    for row in csvfile:\n",
    "        a = re.match('.*\\((.*)->(.*)\\)', row[2])\n",
    "        ref = a.group(1).upper()\n",
    "        seq = a.group(2).upper()\n",
    "        \n",
    "        pos_end = int(row[1]) + len(ref) - 1\n",
    "        out = \"{0}\\t{1}\\t{2}\\t{3}\\t{4}\\n\".format(row[0], row[1], pos_end, ref, seq)\n",
    "        out_file.write(out)\n",
    "        print(out)"
   ]
  },
  {
   "cell_type": "code",
   "execution_count": null,
   "metadata": {
    "collapsed": true
   },
   "outputs": [],
   "source": []
  }
 ],
 "metadata": {
  "anaconda-cloud": {},
  "kernelspec": {
   "display_name": "Python [conda env:seqpipe]",
   "language": "python",
   "name": "conda-env-seqpipe-py"
  },
  "language_info": {
   "codemirror_mode": {
    "name": "ipython",
    "version": 2
   },
   "file_extension": ".py",
   "mimetype": "text/x-python",
   "name": "python",
   "nbconvert_exporter": "python",
   "pygments_lexer": "ipython2",
   "version": "2.7.12"
  }
 },
 "nbformat": 4,
 "nbformat_minor": 1
}
