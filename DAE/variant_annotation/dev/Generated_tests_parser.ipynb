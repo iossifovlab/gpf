{
 "cells": [
  {
   "cell_type": "code",
   "execution_count": 1,
   "metadata": {
    "collapsed": false
   },
   "outputs": [
    {
     "name": "stderr",
     "output_type": "stream",
     "text": [
      "the twin 13772.s2 is not quite in the collection\n",
      "set(['1995-09', '1998-11'])\n",
      "birth month mismatch for twins from family 11665\n",
      "the twin 12782.s2 is not quite in the collection\n"
     ]
    }
   ],
   "source": [
    "import VariantAnnotation\n",
    "from DAE import genomesDB\n",
    "\n",
    "GA = genomesDB.get_genome()\n",
    "gmDB = genomesDB.get_gene_models()"
   ]
  },
  {
   "cell_type": "code",
   "execution_count": 2,
   "metadata": {
    "collapsed": false
   },
   "outputs": [],
   "source": [
    "import pickle \n",
    "\n",
    "variants = []\n",
    "\n",
    "with open(\"output_aws\", \"rb\") as f:\n",
    "    while True:\n",
    "        try:\n",
    "            variants.append(pickle.load(f))\n",
    "        except EOFError:\n",
    "            break"
   ]
  },
  {
   "cell_type": "code",
   "execution_count": 3,
   "metadata": {
    "collapsed": false
   },
   "outputs": [],
   "source": [
    "sorted_effects = sorted(variants, key=lambda k: k['count'], reverse=True)"
   ]
  },
  {
   "cell_type": "code",
   "execution_count": 4,
   "metadata": {
    "collapsed": true
   },
   "outputs": [],
   "source": [
    "all_lines = reduce(lambda acc, ef: acc | ef['lines'], sorted_effects, set())"
   ]
  },
  {
   "cell_type": "code",
   "execution_count": 5,
   "metadata": {
    "collapsed": true
   },
   "outputs": [],
   "source": [
    "coverage = []\n",
    "while len(all_lines) > 0:\n",
    "    all_lines = all_lines - sorted_effects[0]['lines']\n",
    "    coverage.append(sorted_effects[0])\n",
    "    \n",
    "    for effect in sorted_effects[1:]:\n",
    "        effect['lines'] = effect['lines'] - sorted_effects[0]['lines']\n",
    "        effect['count'] = len(effect['lines'])\n",
    "    sorted_effects = sorted(sorted_effects[1:], key=lambda k: k['count'], reverse=True)"
   ]
  },
  {
   "cell_type": "code",
   "execution_count": 6,
   "metadata": {
    "collapsed": true
   },
   "outputs": [],
   "source": [
    "asserts_text = \"\"\"\n",
    "        self.assertEqual({0}.gene, {1})\n",
    "        self.assertEqual({0}.transcript_id, {2})\n",
    "        self.assertEqual({0}.strand, {3})\n",
    "        self.assertEqual({0}.effect, {4})\n",
    "        self.assertEqual({0}.prot_pos, {5})\n",
    "        self.assertEqual({0}.prot_length, {6})\n",
    "        self.assertEqual({0}.aa_change, {7})\n",
    "\"\"\"\n",
    "\n",
    "singe_res_text = \"\"\"\n",
    "    def {0}(self):\n",
    "        [effect] = VariantAnnotation.annotate_variant(self.gmDB, self.GA,\n",
    "                                                      loc=\"{1}\",\n",
    "                                                      var=\"{2}\")\n",
    "\"\"\"\n",
    "\n",
    "multiple_res_text = \"\"\"\n",
    "    def {0}(self):\n",
    "        effects = VariantAnnotation.annotate_variant(self.gmDB, self.GA,\n",
    "                                                     loc=\"{1}\",\n",
    "                                                     var=\"{2}\")\n",
    "        self.assertEqual(len(effects), {3})\n",
    "        effects_sorted = sorted(effects, key=lambda k: k.transcript_id)\n",
    "\"\"\"\n",
    "\n",
    "def add_quotes(string):\n",
    "    if string is None:\n",
    "        return string\n",
    "    else:\n",
    "        return \"\\\"{}\\\"\".format(string)\n",
    "\n",
    "def generate_single_result_test(loc, var, effect, name):\n",
    "    test_code = singe_res_text.format(name, loc, var)\n",
    "    assert_code = asserts_text.format(\"effect\",\n",
    "                                      add_quotes(effect.gene), \n",
    "                                      add_quotes(effect.transcript_id),\n",
    "                                      add_quotes(effect.strand), \n",
    "                                      add_quotes(effect.effect), \n",
    "                                      effect.prot_pos, effect.prot_length, \n",
    "                                      add_quotes(effect.aa_change))\n",
    "    return test_code + assert_code\n",
    "\n",
    "def generate_multi_line_result_test(loc, var, effects, name):\n",
    "    effects_sorted = sorted(effects, key=lambda k: k.transcript_id)\n",
    "    \n",
    "\n",
    "    test_code = multiple_res_text.format(name, loc, var, len(effects_sorted))\n",
    "    \n",
    "    for i, effect in enumerate(effects_sorted):\n",
    "        effects_elem = \"effects_sorted[{}]\".format(i)\n",
    "        assert_code = asserts_text.format(effects_elem, \n",
    "                                          add_quotes(effect.gene), \n",
    "                                          add_quotes(effect.transcript_id),\n",
    "                                          add_quotes(effect.strand), \n",
    "                                          add_quotes(effect.effect), \n",
    "                                          effect.prot_pos, effect.prot_length, \n",
    "                                          add_quotes(effect.aa_change))\n",
    "        test_code += assert_code\n",
    "    \n",
    "    return test_code\n",
    "\n",
    "def generate_test(loc, var):\n",
    "    chrom = loc.split(\":\")[0]\n",
    "    chrom_loc = loc.split(\":\")[1]\n",
    "    name = \"test_chr{0}_{1}_{2}_var\".format(chrom, chrom_loc, var[:3])\n",
    "    result = VariantAnnotation.annotate_variant(gmDB, GA, \n",
    "                                                loc=loc, \n",
    "                                                var=var)\n",
    "    if len(result) == 1:\n",
    "        return generate_single_result_test(loc, var, result[0], name)\n",
    "    else:\n",
    "        return generate_multi_line_result_test(loc, var, result, name)"
   ]
  },
  {
   "cell_type": "code",
   "execution_count": 7,
   "metadata": {
    "collapsed": false
   },
   "outputs": [],
   "source": [
    "with open('autotests.py', 'w') as testsfile:\n",
    "    for cov in coverage:\n",
    "        testsfile.write(generate_test(cov['loc'], cov['var']))"
   ]
  },
  {
   "cell_type": "code",
   "execution_count": null,
   "metadata": {
    "collapsed": true
   },
   "outputs": [],
   "source": []
  },
  {
   "cell_type": "code",
   "execution_count": null,
   "metadata": {
    "collapsed": true
   },
   "outputs": [],
   "source": []
  }
 ],
 "metadata": {
  "anaconda-cloud": {},
  "kernelspec": {
   "display_name": "Python [conda env:seqpipe]",
   "language": "python",
   "name": "conda-env-seqpipe-py"
  },
  "language_info": {
   "codemirror_mode": {
    "name": "ipython",
    "version": 2
   },
   "file_extension": ".py",
   "mimetype": "text/x-python",
   "name": "python",
   "nbconvert_exporter": "python",
   "pygments_lexer": "ipython2",
   "version": "2.7.12"
  }
 },
 "nbformat": 4,
 "nbformat_minor": 1
}
