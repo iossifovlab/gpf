{
 "cells": [
  {
   "cell_type": "code",
   "execution_count": 1,
   "metadata": {
    "collapsed": false
   },
   "outputs": [
    {
     "name": "stderr",
     "output_type": "stream",
     "text": [
      "the twin 13772.s2 is not quite in the collection\n",
      "set(['1995-09', '1998-11'])\n",
      "birth month mismatch for twins from family 11665\n",
      "the twin 12782.s2 is not quite in the collection\n"
     ]
    }
   ],
   "source": [
    "import VariantAnnotation\n",
    "from DAE import genomesDB\n",
    "\n",
    "\n",
    "GA = genomesDB.get_genome()\n",
    "gmDB = genomesDB.get_gene_models()"
   ]
  },
  {
   "cell_type": "code",
   "execution_count": null,
   "metadata": {
    "collapsed": true
   },
   "outputs": [],
   "source": [
    "for key in gm._utrModels[self.chr]:\n",
    "    if self.pos <= key[1] + promoter_len and self.pos_last >= key[0] - promoter_len:\n",
    "\n",
    "        for i in gm._utrModels[self.chr][key]:"
   ]
  },
  {
   "cell_type": "code",
   "execution_count": null,
   "metadata": {
    "collapsed": false
   },
   "outputs": [],
   "source": [
    "utr = gmDB._utrModels[\"1\"]"
   ]
  },
  {
   "cell_type": "code",
   "execution_count": null,
   "metadata": {
    "collapsed": false
   },
   "outputs": [],
   "source": [
    "[tm] = gmDB._utrModels[\"1\"][(26503981, 26516375)]"
   ]
  },
  {
   "cell_type": "code",
   "execution_count": null,
   "metadata": {
    "collapsed": false
   },
   "outputs": [],
   "source": [
    "codingRegions = tm.CDS_regions()"
   ]
  },
  {
   "cell_type": "code",
   "execution_count": null,
   "metadata": {
    "collapsed": false
   },
   "outputs": [],
   "source": [
    "codingRegions"
   ]
  },
  {
   "cell_type": "code",
   "execution_count": null,
   "metadata": {
    "collapsed": true
   },
   "outputs": [],
   "source": [
    "reg = codingRegions[2]"
   ]
  },
  {
   "cell_type": "code",
   "execution_count": 2,
   "metadata": {
    "collapsed": false
   },
   "outputs": [
    {
     "data": {
      "text/plain": [
       "'AGGATGGTCCAGCGGCTGAGAAGGAGGGCACAGTCCTGAGGATCGT'"
      ]
     },
     "execution_count": 2,
     "metadata": {},
     "output_type": "execute_result"
    }
   ],
   "source": [
    "GA.getSequence(\"1\", 26508850, 26508895)"
   ]
  },
  {
   "cell_type": "code",
   "execution_count": null,
   "metadata": {
    "collapsed": true
   },
   "outputs": [],
   "source": [
    "class Mutation:\n",
    "    def __init__(self, pos, ref, alt):\n",
    "        self.pos = pos\n",
    "        self.pos_end = pos + len(ref)\n",
    "        self.ref = ref\n",
    "        self.alt = alt\n",
    "    \n",
    "    def getMutatedSequence(self, pos, seq):\n",
    "        start_index = pos - self.pos\n",
    "        end_index = pos - self.pos - len(seq)\n",
    "        \n",
    "        return seq[:start_index] + alt + seq[end_index:]\n",
    "        "
   ]
  },
  {
   "cell_type": "code",
   "execution_count": 11,
   "metadata": {
    "collapsed": false
   },
   "outputs": [],
   "source": [
    "class MutatedGenomicSequence:\n",
    "    def __init__(self, genome_seq, mutation):\n",
    "        self.genome_seq = genome_seq\n",
    "        self.mutation = mutation\n",
    "        \n",
    "    def getSequence(self, chromosome, pos_start, pos_end):\n",
    "        return self.genome_seq.getSequence(chromosome, pos_start, pos_end)\n",
    "    \n",
    "    def getMutatedSequence(self, chromosome, pos_start, pos_end):\n",
    "        return self.getSequence(chromosome, pos_start, pos_end)"
   ]
  },
  {
   "cell_type": "code",
   "execution_count": 12,
   "metadata": {
    "collapsed": true
   },
   "outputs": [],
   "source": [
    "mg = MutatedGenomicSequence(GA)"
   ]
  },
  {
   "cell_type": "code",
   "execution_count": 13,
   "metadata": {
    "collapsed": false
   },
   "outputs": [
    {
     "data": {
      "text/plain": [
       "'AGGATGGTCCAGCGGCTGAGAAGGAGGGCACAGTCCTGAGGATCGT'"
      ]
     },
     "execution_count": 13,
     "metadata": {},
     "output_type": "execute_result"
    }
   ],
   "source": [
    "mg.getMutatedSequence(\"1\", 26508850, 26508895)"
   ]
  },
  {
   "cell_type": "code",
   "execution_count": null,
   "metadata": {
    "collapsed": true
   },
   "outputs": [],
   "source": []
  }
 ],
 "metadata": {
  "anaconda-cloud": {},
  "kernelspec": {
   "display_name": "Python [conda env:seqpipe]",
   "language": "python",
   "name": "conda-env-seqpipe-py"
  },
  "language_info": {
   "codemirror_mode": {
    "name": "ipython",
    "version": 2
   },
   "file_extension": ".py",
   "mimetype": "text/x-python",
   "name": "python",
   "nbconvert_exporter": "python",
   "pygments_lexer": "ipython2",
   "version": "2.7.12"
  }
 },
 "nbformat": 4,
 "nbformat_minor": 1
}
