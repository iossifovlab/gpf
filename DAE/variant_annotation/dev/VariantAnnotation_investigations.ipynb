{
 "cells": [
  {
   "cell_type": "code",
   "execution_count": 1,
   "metadata": {
    "collapsed": false
   },
   "outputs": [
    {
     "name": "stderr",
     "output_type": "stream",
     "text": [
      "the twin 13772.s2 is not quite in the collection\n",
      "set(['1995-09', '1998-11'])\n",
      "birth month mismatch for twins from family 11665\n",
      "the twin 12782.s2 is not quite in the collection\n"
     ]
    }
   ],
   "source": [
    "import VariantAnnotation\n",
    "from DAE import genomesDB\n",
    "\n",
    "\n",
    "GA = genomesDB.get_genome()\n",
    "gmDB = genomesDB.get_gene_models()\n"
   ]
  },
  {
   "cell_type": "code",
   "execution_count": 80,
   "metadata": {
    "collapsed": true
   },
   "outputs": [],
   "source": [
    "# 1\t897349\tcomplex(G->CCAA)\n",
    "loc=\"1:897349\"\n",
    "var=\"complex(G->CCAA)\"\n",
    "\n",
    "pos = 897349\n",
    "pos_last = 897349\n",
    "\n",
    "chr=\"1\""
   ]
  },
  {
   "cell_type": "code",
   "execution_count": 81,
   "metadata": {
    "collapsed": false
   },
   "outputs": [
    {
     "name": "stdout",
     "output_type": "stream",
     "text": [
      "(26516375, 26503981)\n"
     ]
    }
   ],
   "source": [
    "for key in gmDB._utrModels[chr]:\n",
    "    print(key[1], key[0])\n",
    "    break"
   ]
  },
  {
   "cell_type": "code",
   "execution_count": 82,
   "metadata": {
    "collapsed": false
   },
   "outputs": [
    {
     "data": {
      "text/plain": [
       "'no_hit'"
      ]
     },
     "execution_count": 82,
     "metadata": {},
     "output_type": "execute_result"
    }
   ],
   "source": [
    "i = gmDB._utrModels[chr][key]\n",
    "i[0].what_region(chr, pos, pos_last, prom = 0)"
   ]
  },
  {
   "cell_type": "code",
   "execution_count": 93,
   "metadata": {
    "collapsed": false
   },
   "outputs": [
    {
     "name": "stdout",
     "output_type": "stream",
     "text": [
      "('CDS', [Region(1,896074,896180), Region(1,896673,896932), Region(1,897009,897130), Region(1,897206,897427), Region(1,897735,897851), Region(1,898084,898297), Region(1,898489,898633), Region(1,898717,898884), Region(1,899300,899388), Region(1,899487,899560), Region(1,899729,899910), Region(1,900343,900571)])\n",
      "('AAG', 'AAA')\n",
      "('Lys', 'Lys')\n",
      "(897206, 897427)\n"
     ]
    }
   ],
   "source": [
    "promoter_len = 0\n",
    "\n",
    "for key in gmDB._utrModels[chr]:\n",
    "    if not isinstance(key, tuple):\n",
    "        continue\n",
    "\n",
    "    if pos <= key[1] + promoter_len and pos_last >= key[0] - promoter_len:\n",
    "        for i in gmDB._utrModels[chr][key]:\n",
    "            what_hit = i.what_region(chr, pos, pos_last, prom = 0)\n",
    "            \n",
    "            codingRegions = i.CDS_regions()\n",
    "            print(what_hit, codingRegions)\n",
    "            \n",
    "            for j in xrange(0, len(codingRegions)):\n",
    "                if pos <= codingRegions[j].stop and pos > codingRegions[j].start:\n",
    "                    refCodon, altCodon = VariantAnnotation.whatCodonChange_Snp(i, pos, \"A\", GA)\n",
    "                    print(refCodon, altCodon)\n",
    "                    refAA = VariantAnnotation.cod2aa(refCodon, VariantAnnotation.NuclearCode())\n",
    "                    altAA = VariantAnnotation.cod2aa(altCodon, VariantAnnotation.NuclearCode())\n",
    "                    print(refAA, altAA)\n",
    "                    \n",
    "                    print(codingRegions[j].start, codingRegions[j].stop)\n",
    "\n",
    "                \n",
    "                "
   ]
  },
  {
   "cell_type": "code",
   "execution_count": 85,
   "metadata": {
    "collapsed": false
   },
   "outputs": [],
   "source": [
    "s = GA.getSequence(chr, pos, pos+100)"
   ]
  },
  {
   "cell_type": "code",
   "execution_count": 92,
   "metadata": {
    "collapsed": false
   },
   "outputs": [
    {
     "data": {
      "text/plain": [
       "'CCAAGCCGCCCACAGGTACGTGCTGCAGCACTTCGTGGACGTGGCCAAGACCGAGGAGTTTATGCTGCTGCCCCTGAAACAGGTAACAGCTGGCGGGCCCAGCC'"
      ]
     },
     "execution_count": 92,
     "metadata": {},
     "output_type": "execute_result"
    }
   ],
   "source": [
    "\"CCAA\" + s[1:]"
   ]
  }
 ],
 "metadata": {
  "anaconda-cloud": {},
  "kernelspec": {
   "display_name": "Python [conda env:seqpipe]",
   "language": "python",
   "name": "conda-env-seqpipe-py"
  },
  "language_info": {
   "codemirror_mode": {
    "name": "ipython",
    "version": 2
   },
   "file_extension": ".py",
   "mimetype": "text/x-python",
   "name": "python",
   "nbconvert_exporter": "python",
   "pygments_lexer": "ipython2",
   "version": "2.7.12"
  }
 },
 "nbformat": 4,
 "nbformat_minor": 1
}
