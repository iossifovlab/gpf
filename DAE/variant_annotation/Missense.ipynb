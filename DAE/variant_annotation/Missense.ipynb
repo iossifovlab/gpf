{
 "cells": [
  {
   "cell_type": "code",
   "execution_count": 1,
   "metadata": {
    "collapsed": false
   },
   "outputs": [],
   "source": [
    "from variant_annotation.variant import Variant\n",
    "from variant_annotation.missense_scores import MissenseScoresDB"
   ]
  },
  {
   "cell_type": "code",
   "execution_count": 3,
   "metadata": {
    "collapsed": false
   },
   "outputs": [
    {
     "name": "stdout",
     "output_type": "stream",
     "text": [
      "CPU times: user 0 ns, sys: 0 ns, total: 0 ns\n",
      "Wall time: 6.91 µs\n"
     ]
    }
   ],
   "source": [
    "%time mDB = MissenseScoresDB()"
   ]
  },
  {
   "cell_type": "code",
   "execution_count": 4,
   "metadata": {
    "collapsed": false
   },
   "outputs": [
    {
     "name": "stdout",
     "output_type": "stream",
     "text": [
      "CPU times: user 1min 34s, sys: 1.95 s, total: 1min 36s\n",
      "Wall time: 1min 36s\n"
     ]
    }
   ],
   "source": [
    "%time mDB.load_all_indexes()"
   ]
  },
  {
   "cell_type": "code",
   "execution_count": 7,
   "metadata": {
    "collapsed": false
   },
   "outputs": [
    {
     "name": "stdout",
     "output_type": "stream",
     "text": [
      "['1', '70952947', 'A', 'C', 'I', 'S', '.', '1', '71418630', '1']\n",
      "['1', '70952947', 'A', 'G', 'I', 'T', '.', '1', '71418630', '1']\n",
      "['1', '70952947', 'A', 'T', 'I', 'N', '.', '1', '71418630', '1']\n",
      "CPU times: user 0 ns, sys: 0 ns, total: 0 ns\n",
      "Wall time: 782 µs\n"
     ]
    }
   ],
   "source": [
    "variant = Variant(\"1\", 71418630, var=\"sub(A->G)\")\n",
    "%time mDB.get_missense_score(variant)"
   ]
  },
  {
   "cell_type": "code",
   "execution_count": 6,
   "metadata": {
    "collapsed": false
   },
   "outputs": [
    {
     "name": "stdout",
     "output_type": "stream",
     "text": [
      "['20', '58903684', 'G', 'A', 'A', 'T', '.', '20', '57478739', '20']\n",
      "['20', '58903684', 'G', 'C', 'A', 'P', '.', '20', '57478739', '20']\n",
      "['20', '58903684', 'G', 'T', 'A', 'S', '.', '20', '57478739', '20']\n"
     ]
    }
   ],
   "source": [
    "variant = Variant(\"20\", 57478739, var=\"sub(G->A)\")\n",
    "mDB.get_missense_score(variant)"
   ]
  },
  {
   "cell_type": "code",
   "execution_count": null,
   "metadata": {
    "collapsed": true
   },
   "outputs": [],
   "source": []
  }
 ],
 "metadata": {
  "anaconda-cloud": {},
  "kernelspec": {
   "display_name": "Python [conda env:seqpipe]",
   "language": "python",
   "name": "conda-env-seqpipe-py"
  },
  "language_info": {
   "codemirror_mode": {
    "name": "ipython",
    "version": 2
   },
   "file_extension": ".py",
   "mimetype": "text/x-python",
   "name": "python",
   "nbconvert_exporter": "python",
   "pygments_lexer": "ipython2",
   "version": "2.7.12"
  }
 },
 "nbformat": 4,
 "nbformat_minor": 1
}
