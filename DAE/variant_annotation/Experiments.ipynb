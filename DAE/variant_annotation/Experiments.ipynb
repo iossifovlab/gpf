{
 "cells": [
  {
   "cell_type": "code",
   "execution_count": 1,
   "metadata": {
    "collapsed": false
   },
   "outputs": [
    {
     "name": "stderr",
     "output_type": "stream",
     "text": [
      "the twin 13772.s2 is not quite in the collection\n",
      "set(['1998-11', '1995-09'])\n",
      "birth month mismatch for twins from family 11665\n",
      "the twin 12782.s2 is not quite in the collection\n"
     ]
    }
   ],
   "source": [
    "from DAE import genomesDB\n",
    "\n",
    "ga = genomesDB.get_genome()\n",
    "gmDB = genomesDB.get_gene_models()"
   ]
  },
  {
   "cell_type": "code",
   "execution_count": 2,
   "metadata": {
    "collapsed": true
   },
   "outputs": [],
   "source": [
    "from variant_annotation.annotator import VariantAnnotator\n",
    "import logging\n",
    "logging.basicConfig()\n",
    "logging.getLogger().setLevel(logging.DEBUG)"
   ]
  },
  {
   "cell_type": "code",
   "execution_count": 3,
   "metadata": {
    "collapsed": false
   },
   "outputs": [
    {
     "name": "stderr",
     "output_type": "stream",
     "text": [
      "DEBUG:variant_annotation.annotator:========: KLHL17-NM_198317_1 :====================\n",
      "DEBUG:variant_annotation.effect_checkers.coding:is coding=True\n",
      "DEBUG:variant_annotation.effect_checkers.splice_site:pos: 896180-896181 checking intronic region 896180-896673 896932\n",
      "DEBUG:variant_annotation.effect_checkers.splice_site:pos: 896180-896181 checking intronic region 896932-897009 897130\n",
      "DEBUG:variant_annotation.effect_checkers.splice_site:pos: 896180-896181 checking intronic region 897130-897206 897427\n",
      "DEBUG:variant_annotation.effect_checkers.splice_site:pos: 896180-896181 checking intronic region 897427-897735 897851\n",
      "DEBUG:variant_annotation.effect_checkers.splice_site:pos: 896180-896181 checking intronic region 897851-898084 898297\n",
      "DEBUG:variant_annotation.effect_checkers.splice_site:pos: 896180-896181 checking intronic region 898297-898489 898633\n",
      "DEBUG:variant_annotation.effect_checkers.splice_site:pos: 896180-896181 checking intronic region 898633-898717 898884\n",
      "DEBUG:variant_annotation.effect_checkers.splice_site:pos: 896180-896181 checking intronic region 898884-899300 899388\n",
      "DEBUG:variant_annotation.effect_checkers.splice_site:pos: 896180-896181 checking intronic region 899388-899487 899560\n",
      "DEBUG:variant_annotation.effect_checkers.splice_site:pos: 896180-896181 checking intronic region 899560-899729 899910\n",
      "DEBUG:variant_annotation.effect_checkers.splice_site:pos: 896180-896181 checking intronic region 899910-900343 901099\n",
      "DEBUG:variant_annotation.effect_checkers.start_loss:position check 896074 <= 896180-896181 <= 896076\n",
      "DEBUG:variant_annotation.effect_checkers.stop_loss:position check 900569 <= 896180-896181 <= 896074\n",
      "DEBUG:variant_annotation.annotation_request:frame 1 for pos=896180\n",
      "DEBUG:variant_annotation.annotation_request:get_coding_left pos:896179 len:1 index:0\n",
      "DEBUG:variant_annotation.annotation_request:_get_sequence 896179-896179\n",
      "DEBUG:variant_annotation.annotation_request:get_coding_right pos:896180 len:2 index:0\n",
      "DEBUG:variant_annotation.annotation_request:_get_sequence 896180-896180\n",
      "DEBUG:variant_annotation.annotation_request:get_coding_right pos:-1 len:1 index:1\n",
      "DEBUG:variant_annotation.annotation_request:_get_sequence 896673-896673\n",
      "DEBUG:variant_annotation.annotation_request:get_coding_right pos:-1 len:0 index:2\n",
      "DEBUG:variant_annotation.annotation_request:get_coding_right pos:896181 len:1 index:0\n",
      "DEBUG:variant_annotation.annotation_request:_get_sequence 896181-896180\n",
      "DEBUG:variant_annotation.annotation_request:get_coding_right pos:-1 len:1 index:1\n",
      "DEBUG:variant_annotation.annotation_request:_get_sequence 896673-896673\n",
      "DEBUG:variant_annotation.annotation_request:get_coding_right pos:-1 len:0 index:2\n",
      "DEBUG:variant_annotation.annotation_request:ref codons=GCC, alt codons=GGC\n",
      "DEBUG:variant_annotation.effect_checkers.stop_loss:ref aa=['Ala'], alt aa=['Gly']\n",
      "DEBUG:variant_annotation.effect_checkers.frame_shift:frameshift 896074<=896180<=896180 cds:896074-900571 exon:896074-896180\n",
      "DEBUG:variant_annotation.effect_checkers.frame_shift:fs detected 896074<=896180-896181<=896180 cds:896074-900571\n",
      "DEBUG:variant_annotation.annotation_request:frame 1 for pos=896180\n",
      "DEBUG:variant_annotation.annotation_request:get_coding_left pos:896179 len:1 index:0\n",
      "DEBUG:variant_annotation.annotation_request:_get_sequence 896179-896179\n",
      "DEBUG:variant_annotation.annotation_request:get_coding_right pos:896180 len:2 index:0\n",
      "DEBUG:variant_annotation.annotation_request:_get_sequence 896180-896180\n",
      "DEBUG:variant_annotation.annotation_request:get_coding_right pos:-1 len:1 index:1\n",
      "DEBUG:variant_annotation.annotation_request:_get_sequence 896673-896673\n",
      "DEBUG:variant_annotation.annotation_request:get_coding_right pos:-1 len:0 index:2\n",
      "DEBUG:variant_annotation.annotation_request:get_coding_right pos:896181 len:1 index:0\n",
      "DEBUG:variant_annotation.annotation_request:_get_sequence 896181-896180\n",
      "DEBUG:variant_annotation.annotation_request:get_coding_right pos:-1 len:1 index:1\n",
      "DEBUG:variant_annotation.annotation_request:_get_sequence 896673-896673\n",
      "DEBUG:variant_annotation.annotation_request:get_coding_right pos:-1 len:0 index:2\n",
      "DEBUG:variant_annotation.annotation_request:ref codons=GCC, alt codons=GGC\n",
      "DEBUG:variant_annotation.effect_checkers.protein_change:ref aa=['Ala'], alt aa=['Gly']\n",
      "DEBUG:variant_annotation.annotation_request:get_coding_nucleotide_position pos=896180 len=106\n",
      "DEBUG:variant_annotation.annotator:\n",
      "DEBUG:variant_annotation.annotator:Result: Effect gene:KLHL17 trID:NM_198317_1 strand:+ effect:missense protein pos:36/100 aa: Ala->Gly\n",
      "DEBUG:variant_annotation.annotator:\n",
      "DEBUG:variant_annotation.annotator:effect: ('missense', 'KLHL17:missense', '36/100(Ala->Gly)')\n"
     ]
    },
    {
     "data": {
      "text/plain": [
       "36"
      ]
     },
     "execution_count": 3,
     "metadata": {},
     "output_type": "execute_result"
    }
   ],
   "source": [
    "VariantAnnotator.annotate_variant(gmDB, ga, loc=\"1:896180\",  var=\"sub(A->G)\")[0].prot_pos"
   ]
  },
  {
   "cell_type": "code",
   "execution_count": 6,
   "metadata": {
    "collapsed": false
   },
   "outputs": [
    {
     "name": "stderr",
     "output_type": "stream",
     "text": [
      "DEBUG:variant_annotation.annotator:========: KLHL17-NM_198317_1 :====================\n",
      "DEBUG:variant_annotation.effect_checkers.coding:is coding=True\n",
      "DEBUG:variant_annotation.effect_checkers.splice_site:pos: 897348-897349 checking intronic region 896180-896673 896932\n",
      "DEBUG:variant_annotation.effect_checkers.splice_site:pos: 897348-897349 checking intronic region 896932-897009 897130\n",
      "DEBUG:variant_annotation.effect_checkers.splice_site:pos: 897348-897349 checking intronic region 897130-897206 897427\n",
      "DEBUG:variant_annotation.effect_checkers.splice_site:pos: 897348-897349 checking intronic region 897427-897735 897851\n",
      "DEBUG:variant_annotation.effect_checkers.splice_site:pos: 897348-897349 checking intronic region 897851-898084 898297\n",
      "DEBUG:variant_annotation.effect_checkers.splice_site:pos: 897348-897349 checking intronic region 898297-898489 898633\n",
      "DEBUG:variant_annotation.effect_checkers.splice_site:pos: 897348-897349 checking intronic region 898633-898717 898884\n",
      "DEBUG:variant_annotation.effect_checkers.splice_site:pos: 897348-897349 checking intronic region 898884-899300 899388\n",
      "DEBUG:variant_annotation.effect_checkers.splice_site:pos: 897348-897349 checking intronic region 899388-899487 899560\n",
      "DEBUG:variant_annotation.effect_checkers.splice_site:pos: 897348-897349 checking intronic region 899560-899729 899910\n",
      "DEBUG:variant_annotation.effect_checkers.splice_site:pos: 897348-897349 checking intronic region 899910-900343 901099\n",
      "DEBUG:variant_annotation.effect_checkers.start_loss:position check 896074 <= 897348-897349 <= 896076\n",
      "DEBUG:variant_annotation.effect_checkers.stop_loss:position check 900569 <= 897348-897349 <= 896074\n",
      "DEBUG:variant_annotation.annotation_request:frame 1 for pos=897348\n",
      "DEBUG:variant_annotation.annotation_request:get_coding_left pos:897347 len:1 index:3\n",
      "DEBUG:variant_annotation.annotation_request:_get_sequence 897347-897347\n",
      "DEBUG:variant_annotation.annotation_request:get_coding_left pos:-1 len:0 index:2\n",
      "DEBUG:variant_annotation.annotation_request:get_coding_right pos:897348 len:2 index:3\n",
      "DEBUG:variant_annotation.annotation_request:_get_sequence 897348-897349\n",
      "DEBUG:variant_annotation.annotation_request:get_coding_right pos:-1 len:0 index:4\n",
      "DEBUG:variant_annotation.annotation_request:get_coding_right pos:897349 len:1 index:3\n",
      "DEBUG:variant_annotation.annotation_request:_get_sequence 897349-897349\n",
      "DEBUG:variant_annotation.annotation_request:get_coding_right pos:-1 len:0 index:4\n",
      "DEBUG:variant_annotation.annotation_request:ref codons=AAG, alt codons=AGG\n",
      "DEBUG:variant_annotation.effect_checkers.stop_loss:ref aa=['Lys'], alt aa=['Arg']\n",
      "DEBUG:variant_annotation.effect_checkers.frame_shift:frameshift 896074<=897348<=896180 cds:896074-900571 exon:896074-896180\n",
      "DEBUG:variant_annotation.effect_checkers.frame_shift:frameshift 896673<=897348<=896932 cds:896074-900571 exon:896673-896932\n",
      "DEBUG:variant_annotation.effect_checkers.frame_shift:frameshift 897009<=897348<=897130 cds:896074-900571 exon:897009-897130\n",
      "DEBUG:variant_annotation.effect_checkers.frame_shift:frameshift 897206<=897348<=897427 cds:896074-900571 exon:897206-897427\n",
      "DEBUG:variant_annotation.effect_checkers.frame_shift:fs detected 897206<=897348-897349<=897427 cds:896074-900571\n",
      "DEBUG:variant_annotation.annotation_request:frame 1 for pos=897348\n",
      "DEBUG:variant_annotation.annotation_request:get_coding_left pos:897347 len:1 index:3\n",
      "DEBUG:variant_annotation.annotation_request:_get_sequence 897347-897347\n",
      "DEBUG:variant_annotation.annotation_request:get_coding_left pos:-1 len:0 index:2\n",
      "DEBUG:variant_annotation.annotation_request:get_coding_right pos:897348 len:2 index:3\n",
      "DEBUG:variant_annotation.annotation_request:_get_sequence 897348-897349\n",
      "DEBUG:variant_annotation.annotation_request:get_coding_right pos:-1 len:0 index:4\n",
      "DEBUG:variant_annotation.annotation_request:get_coding_right pos:897349 len:1 index:3\n",
      "DEBUG:variant_annotation.annotation_request:_get_sequence 897349-897349\n",
      "DEBUG:variant_annotation.annotation_request:get_coding_right pos:-1 len:0 index:4\n",
      "DEBUG:variant_annotation.annotation_request:ref codons=AAG, alt codons=AGG\n",
      "DEBUG:variant_annotation.effect_checkers.protein_change:ref aa=['Lys'], alt aa=['Arg']\n",
      "DEBUG:variant_annotation.annotation_request:get_coding_nucleotide_position pos=897348 len=631\n",
      "DEBUG:variant_annotation.annotator:\n",
      "DEBUG:variant_annotation.annotator:Result: Effect gene:KLHL17 trID:NM_198317_1 strand:+ effect:missense protein pos:211/100 aa: Lys->Arg\n",
      "DEBUG:variant_annotation.annotator:\n",
      "DEBUG:variant_annotation.annotator:effect: ('missense', 'KLHL17:missense', '211/100(Lys->Arg)')\n"
     ]
    },
    {
     "data": {
      "text/plain": [
       "211"
      ]
     },
     "execution_count": 6,
     "metadata": {},
     "output_type": "execute_result"
    }
   ],
   "source": [
    "VariantAnnotator.annotate_variant(gmDB, ga, loc=\"1:897348\",  var=\"sub(A->G)\")[0].prot_pos"
   ]
  },
  {
   "cell_type": "code",
   "execution_count": null,
   "metadata": {
    "collapsed": true
   },
   "outputs": [],
   "source": []
  },
  {
   "cell_type": "code",
   "execution_count": null,
   "metadata": {
    "collapsed": true
   },
   "outputs": [],
   "source": []
  }
 ],
 "metadata": {
  "anaconda-cloud": {},
  "kernelspec": {
   "display_name": "Python [conda env:seqpipe]",
   "language": "python",
   "name": "conda-env-seqpipe-py"
  },
  "language_info": {
   "codemirror_mode": {
    "name": "ipython",
    "version": 2
   },
   "file_extension": ".py",
   "mimetype": "text/x-python",
   "name": "python",
   "nbconvert_exporter": "python",
   "pygments_lexer": "ipython2",
   "version": "2.7.12"
  }
 },
 "nbformat": 4,
 "nbformat_minor": 1
}
