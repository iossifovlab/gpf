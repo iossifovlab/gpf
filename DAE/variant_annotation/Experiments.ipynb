{
 "cells": [
  {
   "cell_type": "code",
   "execution_count": 1,
   "metadata": {
    "collapsed": false
   },
   "outputs": [
    {
     "name": "stderr",
     "output_type": "stream",
     "text": [
      "the twin 13772.s2 is not quite in the collection\n",
      "set(['1998-11', '1995-09'])\n",
      "birth month mismatch for twins from family 11665\n",
      "the twin 12782.s2 is not quite in the collection\n"
     ]
    }
   ],
   "source": [
    "from DAE import genomesDB\n",
    "\n",
    "ga = genomesDB.get_genome()\n",
    "gmDB = genomesDB.get_gene_models()"
   ]
  },
  {
   "cell_type": "code",
   "execution_count": 2,
   "metadata": {
    "collapsed": true
   },
   "outputs": [],
   "source": [
    "from variant_annotation.annotator import VariantAnnotator\n"
   ]
  },
  {
   "cell_type": "code",
   "execution_count": null,
   "metadata": {
    "collapsed": true
   },
   "outputs": [],
   "source": [
    "import logging\n",
    "logging.basicConfig()\n",
    "logging.getLogger().setLevel(logging.DEBUG)"
   ]
  },
  {
   "cell_type": "code",
   "execution_count": 3,
   "metadata": {
    "collapsed": false
   },
   "outputs": [],
   "source": [
    "ef = VariantAnnotator.annotate_variant(gmDB, ga, loc=\"6:157527729\",  var=\"complex(GGGG->G)\")"
   ]
  },
  {
   "cell_type": "code",
   "execution_count": 4,
   "metadata": {
    "collapsed": false
   },
   "outputs": [
    {
     "data": {
      "text/plain": [
       "('NM_020732_1:p.Trp1819del', 'Trp->')"
      ]
     },
     "execution_count": 4,
     "metadata": {},
     "output_type": "execute_result"
    }
   ],
   "source": [
    "str(ef[0].hgvs), ef[0].aa_change"
   ]
  },
  {
   "cell_type": "code",
   "execution_count": 6,
   "metadata": {
    "collapsed": false
   },
   "outputs": [
    {
     "data": {
      "text/plain": [
       "('NM_020732_1:p.Ter2250Ter=', 'End->End', 'synonymous')"
      ]
     },
     "execution_count": 6,
     "metadata": {},
     "output_type": "execute_result"
    }
   ],
   "source": [
    "ef = VariantAnnotator.annotate_variant(gmDB, ga, loc=\"6:157529024\",  var=\"complex(G->A)\")\n",
    "str(ef[0].hgvs), ef[0].aa_change, ef[0].effect"
   ]
  },
  {
   "cell_type": "code",
   "execution_count": null,
   "metadata": {
    "collapsed": true
   },
   "outputs": [],
   "source": [
    "from variant_annotation.multitool import old_VariantAnnotation as OldVariantAnnotator"
   ]
  },
  {
   "cell_type": "code",
   "execution_count": null,
   "metadata": {
    "collapsed": false
   },
   "outputs": [],
   "source": [
    "effects = OldVariantAnnotator.annotate_variant(gmDB, ga, loc=\"1:156786466\", var=\"ins(T)\")\n",
    "effects_sorted = sorted(effects, key=lambda k: k.transcript_id)\n",
    "ef = effects_sorted[0]\n",
    "ef.effect, ef.transcript_id, ef.which_intron, ef.how_many_introns, ef.dist_from_coding"
   ]
  },
  {
   "cell_type": "code",
   "execution_count": null,
   "metadata": {
    "collapsed": false
   },
   "outputs": [],
   "source": [
    "effects = VariantAnnotator.annotate_variant(gmDB, ga, loc=\"1:156786466\", var=\"ins(A)\")\n",
    "effects_sorted = sorted(effects, key=lambda k: k.transcript_id)\n",
    "ef = effects_sorted[1]\n",
    "ef.effect, ef.transcript_id, ef.how_many_introns, ef.dist_from_coding, ef.dist_from_acceptor, ef.dist_from_donor, ef.intron_length"
   ]
  },
  {
   "cell_type": "code",
   "execution_count": null,
   "metadata": {
    "collapsed": false
   },
   "outputs": [],
   "source": [
    "effects = VariantAnnotator.annotate_variant(gmDB, ga, loc=\"1:43917096\", var=\"sub(A->G)\")\n",
    "effects_sorted = sorted(effects, key=lambda k: k.transcript_id)\n",
    "ef = effects_sorted[1]\n",
    "ef.transcript_id, ef.effect, ef.dist_from_coding, ef.dist_from_acceptor, ef.dist_from_donor, ef.intron_length"
   ]
  },
  {
   "cell_type": "code",
   "execution_count": null,
   "metadata": {
    "collapsed": false
   },
   "outputs": [],
   "source": [
    "    def test_chr1_20440608_ins_var(self):\n",
    "        effects = VariantAnnotation.annotate_variant(self.gmDB, self.GA,\n",
    "                                                     loc=\"1:20440608\",\n",
    "                                                     var=\"ins(T)\")\n",
    "    \n",
    "        self.assertEqual(len(effects), 2)\n",
    "        effects_sorted = sorted(effects, key=lambda k: k.transcript_id)\n",
    "    \n",
    "        self.assertEqual(effects_sorted[0].gene, \"PLA2G2D\")\n",
    "        self.assertEqual(effects_sorted[0].transcript_id, \"NM_001271814_1\")\n",
    "        self.assertEqual(effects_sorted[0].strand, \"-\")\n",
    "        self.assertEqual(effects_sorted[0].effect, \"3'UTR\")\n",
    "        self.assertEqual(effects_sorted[0].prot_pos, None)\n",
    "        self.assertEqual(effects_sorted[0].prot_length, None)\n",
    "        self.assertEqual(effects_sorted[0].aa_change, None)\n",
    ">       self.assertEqual(effects_sorted[0].dist_from_coding, 141)\n",
    "E       AssertionError: 142 != 141\n"
   ]
  },
  {
   "cell_type": "code",
   "execution_count": null,
   "metadata": {
    "collapsed": true
   },
   "outputs": [],
   "source": []
  },
  {
   "cell_type": "code",
   "execution_count": null,
   "metadata": {
    "collapsed": true
   },
   "outputs": [],
   "source": []
  }
 ],
 "metadata": {
  "anaconda-cloud": {},
  "kernelspec": {
   "display_name": "Python [conda env:seqpipe]",
   "language": "python",
   "name": "conda-env-seqpipe-py"
  },
  "language_info": {
   "codemirror_mode": {
    "name": "ipython",
    "version": 2
   },
   "file_extension": ".py",
   "mimetype": "text/x-python",
   "name": "python",
   "nbconvert_exporter": "python",
   "pygments_lexer": "ipython2",
   "version": "2.7.12"
  }
 },
 "nbformat": 4,
 "nbformat_minor": 1
}
